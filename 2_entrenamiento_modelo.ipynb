{
 "cells": [
  {
   "cell_type": "markdown",
   "metadata": {},
   "source": [
    "# 2. Entrenamiento del modelo de Machine Learning"
   ]
  },
  {
   "cell_type": "markdown",
   "metadata": {},
   "source": [
    "**Objetivo:** Utilizando el conjunto de\n",
    "imágenes, construya un modelo que sea capaz de predecir el tipo de producto. Pruebe al\n",
    "menos dos modelos diferentes. Recuerde utilizar de la siguiente manera cada conjunto:\n",
    "\n",
    "- El conjunto de entrenamiento (train) para ajustar los hiperparámetros de los\n",
    "modelos.\n",
    "- El conjunto de prueba (test) para seleccionar el mejor modelo.\n",
    "- El conjunto de validación (valid) para realizar el análisis de resultados del\n",
    "modelo."
   ]
  },
  {
   "cell_type": "markdown",
   "metadata": {},
   "source": [
    "### 2.1 Preparación de los Datos"
   ]
  },
  {
   "cell_type": "markdown",
   "metadata": {},
   "source": [
    "### Configuración de librerías"
   ]
  },
  {
   "cell_type": "code",
   "execution_count": 5,
   "metadata": {},
   "outputs": [
    {
     "name": "stdout",
     "output_type": "stream",
     "text": [
      "Collecting scikit-learn\n",
      "  Downloading scikit_learn-1.5.2-cp312-cp312-win_amd64.whl.metadata (13 kB)\n",
      "Requirement already satisfied: numpy>=1.19.5 in c:\\users\\ramirez nestor\\appdata\\local\\programs\\python\\python312\\lib\\site-packages (from scikit-learn) (2.0.2)\n",
      "Requirement already satisfied: scipy>=1.6.0 in c:\\users\\ramirez nestor\\appdata\\local\\programs\\python\\python312\\lib\\site-packages (from scikit-learn) (1.14.1)\n",
      "Collecting joblib>=1.2.0 (from scikit-learn)\n",
      "  Using cached joblib-1.4.2-py3-none-any.whl.metadata (5.4 kB)\n",
      "Collecting threadpoolctl>=3.1.0 (from scikit-learn)\n",
      "  Using cached threadpoolctl-3.5.0-py3-none-any.whl.metadata (13 kB)\n",
      "Downloading scikit_learn-1.5.2-cp312-cp312-win_amd64.whl (11.0 MB)\n",
      "   ---------------------------------------- 0.0/11.0 MB ? eta -:--:--\n",
      "   -- ------------------------------------- 0.8/11.0 MB 17.2 MB/s eta 0:00:01\n",
      "   ---------- ----------------------------- 2.9/11.0 MB 30.8 MB/s eta 0:00:01\n",
      "   ------------------ --------------------- 5.1/11.0 MB 35.8 MB/s eta 0:00:01\n",
      "   ------------------------- -------------- 7.0/11.0 MB 40.6 MB/s eta 0:00:01\n",
      "   -------------------------- ------------- 7.4/11.0 MB 33.8 MB/s eta 0:00:01\n",
      "   -------------------------- ------------- 7.4/11.0 MB 29.6 MB/s eta 0:00:01\n",
      "   -------------------------- ------------- 7.4/11.0 MB 29.6 MB/s eta 0:00:01\n",
      "   --------------------------- ------------ 7.4/11.0 MB 22.6 MB/s eta 0:00:01\n",
      "   --------------------------- ------------ 7.4/11.0 MB 19.0 MB/s eta 0:00:01\n",
      "   --------------------------- ------------ 7.4/11.0 MB 19.0 MB/s eta 0:00:01\n",
      "   --------------------------- ------------ 7.5/11.0 MB 15.9 MB/s eta 0:00:01\n",
      "   --------------------------- ------------ 7.5/11.0 MB 13.7 MB/s eta 0:00:01\n",
      "   --------------------------- ------------ 7.5/11.0 MB 13.7 MB/s eta 0:00:01\n",
      "   --------------------------- ------------ 7.5/11.0 MB 12.0 MB/s eta 0:00:01\n",
      "   --------------------------- ------------ 7.5/11.0 MB 12.0 MB/s eta 0:00:01\n",
      "   --------------------------- ------------ 7.5/11.0 MB 10.7 MB/s eta 0:00:01\n",
      "   --------------------------- ------------ 7.5/11.0 MB 9.8 MB/s eta 0:00:01\n",
      "   --------------------------- ------------ 7.5/11.0 MB 9.8 MB/s eta 0:00:01\n",
      "   --------------------------- ------------ 7.5/11.0 MB 8.9 MB/s eta 0:00:01\n",
      "   --------------------------- ------------ 7.6/11.0 MB 8.3 MB/s eta 0:00:01\n",
      "   --------------------------- ------------ 7.6/11.0 MB 8.3 MB/s eta 0:00:01\n",
      "   --------------------------- ------------ 7.6/11.0 MB 7.8 MB/s eta 0:00:01\n",
      "   --------------------------- ------------ 7.6/11.0 MB 7.2 MB/s eta 0:00:01\n",
      "   --------------------------- ------------ 7.6/11.0 MB 6.9 MB/s eta 0:00:01\n",
      "   --------------------------- ------------ 7.6/11.0 MB 6.9 MB/s eta 0:00:01\n",
      "   --------------------------- ------------ 7.6/11.0 MB 6.5 MB/s eta 0:00:01\n",
      "   --------------------------- ------------ 7.6/11.0 MB 6.1 MB/s eta 0:00:01\n",
      "   --------------------------- ------------ 7.6/11.0 MB 6.1 MB/s eta 0:00:01\n",
      "   --------------------------- ------------ 7.7/11.0 MB 5.8 MB/s eta 0:00:01\n",
      "   --------------------------- ------------ 7.7/11.0 MB 5.8 MB/s eta 0:00:01\n",
      "   --------------------------- ------------ 7.7/11.0 MB 5.5 MB/s eta 0:00:01\n",
      "   ---------------------------- ----------- 7.7/11.0 MB 5.3 MB/s eta 0:00:01\n",
      "   ---------------------------- ----------- 7.7/11.0 MB 5.3 MB/s eta 0:00:01\n",
      "   ---------------------------- ----------- 7.7/11.0 MB 5.0 MB/s eta 0:00:01\n",
      "   ---------------------------- ----------- 7.7/11.0 MB 4.8 MB/s eta 0:00:01\n",
      "   ---------------------------- ----------- 7.7/11.0 MB 4.7 MB/s eta 0:00:01\n",
      "   ---------------------------- ----------- 7.7/11.0 MB 4.7 MB/s eta 0:00:01\n",
      "   ---------------------------- ----------- 7.9/11.0 MB 4.5 MB/s eta 0:00:01\n",
      "   ---------------------------- ----------- 7.9/11.0 MB 4.5 MB/s eta 0:00:01\n",
      "   ---------------------------- ----------- 7.9/11.0 MB 4.5 MB/s eta 0:00:01\n",
      "   ---------------------------- ----------- 7.9/11.0 MB 4.5 MB/s eta 0:00:01\n",
      "   ---------------------------- ----------- 7.9/11.0 MB 4.5 MB/s eta 0:00:01\n",
      "   ---------------------------- ----------- 7.9/11.0 MB 4.0 MB/s eta 0:00:01\n",
      "   ----------------------------- ---------- 8.2/11.0 MB 4.0 MB/s eta 0:00:01\n",
      "   ---------------------------------- ----- 9.5/11.0 MB 4.6 MB/s eta 0:00:01\n",
      "   ---------------------------------------  11.0/11.0 MB 4.9 MB/s eta 0:00:01\n",
      "   ---------------------------------------- 11.0/11.0 MB 4.9 MB/s eta 0:00:00\n",
      "Using cached joblib-1.4.2-py3-none-any.whl (301 kB)\n",
      "Using cached threadpoolctl-3.5.0-py3-none-any.whl (18 kB)\n",
      "Installing collected packages: threadpoolctl, joblib, scikit-learn\n",
      "Successfully installed joblib-1.4.2 scikit-learn-1.5.2 threadpoolctl-3.5.0\n",
      "Note: you may need to restart the kernel to use updated packages.\n"
     ]
    },
    {
     "name": "stderr",
     "output_type": "stream",
     "text": [
      "\n",
      "[notice] A new release of pip is available: 24.0 -> 24.3.1\n",
      "[notice] To update, run: python.exe -m pip install --upgrade pip\n"
     ]
    }
   ],
   "source": [
    "pip install scikit-learn"
   ]
  },
  {
   "cell_type": "code",
   "execution_count": 6,
   "metadata": {},
   "outputs": [],
   "source": [
    "# Importar librerías necesarias\n",
    "import os\n",
    "import numpy as np\n",
    "import pandas as pd\n",
    "import matplotlib.pyplot as plt\n",
    "import seaborn as sns\n",
    "from tensorflow.keras.preprocessing.image import ImageDataGenerator\n",
    "from tensorflow.keras.models import Sequential\n",
    "from tensorflow.keras.layers import Conv2D, MaxPooling2D, Flatten, Dense, Dropout, BatchNormalization\n",
    "from sklearn.metrics import classification_report, confusion_matrix"
   ]
  },
  {
   "cell_type": "markdown",
   "metadata": {},
   "source": [
    "### Carga de imágenes"
   ]
  },
  {
   "cell_type": "markdown",
   "metadata": {},
   "source": [
    "Para optimizar el procesamiento, se decidió reducir el tamaño de las imágenes a 128×128 píxeles, ya que trabajar con resoluciones menores reduce el tiempo de entrenamiento y el uso de memoria, manteniendo un balance entre eficiencia computacional y calidad de los datos. \n",
    "\n",
    "Este código configura generadores de datos para los conjuntos de entrenamiento, prueba y validación. El generador de entrenamiento aplica técnicas de aumento de datos (rotación, desplazamientos, zoom y volteo) para mejorar la capacidad de generalización del modelo, mientras que los conjuntos de prueba y validación solo se reescalan para garantizar evaluaciones consistentes."
   ]
  },
  {
   "cell_type": "code",
   "execution_count": 7,
   "metadata": {},
   "outputs": [
    {
     "name": "stdout",
     "output_type": "stream",
     "text": [
      "Found 2640 images belonging to 3 classes.\n",
      "Found 2485 images belonging to 3 classes.\n",
      "Found 296 images belonging to 3 classes.\n"
     ]
    }
   ],
   "source": [
    "# Configuración de generadores de datos con aumento para el entrenamiento\n",
    "train_datagen = ImageDataGenerator(rescale=1./255, rotation_range=20, width_shift_range=0.2,\n",
    "                                   height_shift_range=0.2, shear_range=0.2, zoom_range=0.2,\n",
    "                                   horizontal_flip=True, fill_mode='nearest')\n",
    "\n",
    "test_val_datagen = ImageDataGenerator(rescale=1./255)\n",
    "\n",
    "# Cargar imágenes de cada conjunto\n",
    "train_generator = train_datagen.flow_from_directory(\n",
    "    'dataset/train',\n",
    "    target_size=(128, 128),\n",
    "    batch_size=32,\n",
    "    class_mode='categorical'\n",
    ")\n",
    "\n",
    "test_generator = test_val_datagen.flow_from_directory(\n",
    "    'dataset/test',\n",
    "    target_size=(128, 128),\n",
    "    batch_size=32,\n",
    "    class_mode='categorical'\n",
    ")\n",
    "\n",
    "val_generator = test_val_datagen.flow_from_directory(\n",
    "    'dataset/val',\n",
    "    target_size=(128, 128),\n",
    "    batch_size=32,\n",
    "    class_mode='categorical'\n",
    ")"
   ]
  },
  {
   "cell_type": "markdown",
   "metadata": {},
   "source": [
    "El código identifica y organiza las imágenes en 2,640 muestras para entrenamiento, 2,485 para prueba y 296 para validación, distribuidas en tres clases. Esta estructura permite entrenar el modelo con suficientes datos aumentados, evaluar su rendimiento preliminar en el conjunto de prueba para seleccionar el mejor modelo, y validar su capacidad de generalización en datos no vistos en el conjunto de validación."
   ]
  },
  {
   "cell_type": "markdown",
   "metadata": {},
   "source": [
    "### 2.2 Definición de Modelos"
   ]
  },
  {
   "cell_type": "markdown",
   "metadata": {},
   "source": [
    "Vamos a definir dos modelos diferentes para comparar su rendimiento.\n",
    "\n",
    "- Modelo Simple CNN: Una red convolucional básica para empezar.\n",
    "- Modelo con capas convolucionales y de agrupamiento"
   ]
  },
  {
   "cell_type": "markdown",
   "metadata": {},
   "source": [
    "**Modelo 1: Red Neuronal Convolucional (CNN) Simple**"
   ]
  },
  {
   "cell_type": "markdown",
   "metadata": {},
   "source": [
    "Este es un modelo de Red Neuronal Convolucional (CNN) básica para la clasificación de imágenes en tres clases. La arquitectura consta de las siguientes capas:\n",
    "\n",
    "1. **Capas Convolucionales y de Pooling:**\n",
    "\n",
    "    - Tres capas convolucionales con un número creciente de filtros (32, 64, y 128) para captar características visuales cada vez más complejas en las imágenes.\n",
    "    - Cada capa convolucional está seguida de una capa de MaxPooling que reduce las dimensiones de las características, lo cual ayuda a reducir el número de parámetros y previene el sobreajuste.\n",
    "\n",
    "2. **Capas de Aplanamiento y Densas:**\n",
    "\n",
    "    - La capa Flatten convierte las características en un vector de una dimensión, preparándolas para la entrada en las capas densas.\n",
    "    - Una capa densa con 256 unidades y activación relu procesa las características extraídas, seguida de una capa Dropout que ayuda a reducir el sobreajuste desactivando aleatoriamente algunas conexiones durante el entrenamiento.\n",
    "    - La capa de salida utiliza una activación softmax para clasificar en tres clases, acorde al número de categorías en los datos.\n",
    "\n",
    "3. **Compilación del Modelo:**\n",
    "\n",
    "    - El modelo se compila usando el optimizador adam y la función de pérdida categorical_crossentropy, adecuada para clasificación multiclase. La métrica de evaluación seleccionada es la precisión (accuracy).\n"
   ]
  },
  {
   "cell_type": "code",
   "execution_count": 8,
   "metadata": {},
   "outputs": [
    {
     "name": "stderr",
     "output_type": "stream",
     "text": [
      "c:\\Users\\ramirez nestor\\AppData\\Local\\Programs\\Python\\Python312\\Lib\\site-packages\\keras\\src\\layers\\convolutional\\base_conv.py:107: UserWarning: Do not pass an `input_shape`/`input_dim` argument to a layer. When using Sequential models, prefer using an `Input(shape)` object as the first layer in the model instead.\n",
      "  super().__init__(activity_regularizer=activity_regularizer, **kwargs)\n"
     ]
    },
    {
     "data": {
      "text/html": [
       "<pre style=\"white-space:pre;overflow-x:auto;line-height:normal;font-family:Menlo,'DejaVu Sans Mono',consolas,'Courier New',monospace\"><span style=\"font-weight: bold\">Model: \"sequential\"</span>\n",
       "</pre>\n"
      ],
      "text/plain": [
       "\u001b[1mModel: \"sequential\"\u001b[0m\n"
      ]
     },
     "metadata": {},
     "output_type": "display_data"
    },
    {
     "data": {
      "text/html": [
       "<pre style=\"white-space:pre;overflow-x:auto;line-height:normal;font-family:Menlo,'DejaVu Sans Mono',consolas,'Courier New',monospace\">┏━━━━━━━━━━━━━━━━━━━━━━━━━━━━━━━━━┳━━━━━━━━━━━━━━━━━━━━━━━━┳━━━━━━━━━━━━━━━┓\n",
       "┃<span style=\"font-weight: bold\"> Layer (type)                    </span>┃<span style=\"font-weight: bold\"> Output Shape           </span>┃<span style=\"font-weight: bold\">       Param # </span>┃\n",
       "┡━━━━━━━━━━━━━━━━━━━━━━━━━━━━━━━━━╇━━━━━━━━━━━━━━━━━━━━━━━━╇━━━━━━━━━━━━━━━┩\n",
       "│ conv2d (<span style=\"color: #0087ff; text-decoration-color: #0087ff\">Conv2D</span>)                 │ (<span style=\"color: #00d7ff; text-decoration-color: #00d7ff\">None</span>, <span style=\"color: #00af00; text-decoration-color: #00af00\">126</span>, <span style=\"color: #00af00; text-decoration-color: #00af00\">126</span>, <span style=\"color: #00af00; text-decoration-color: #00af00\">32</span>)   │           <span style=\"color: #00af00; text-decoration-color: #00af00\">896</span> │\n",
       "├─────────────────────────────────┼────────────────────────┼───────────────┤\n",
       "│ max_pooling2d (<span style=\"color: #0087ff; text-decoration-color: #0087ff\">MaxPooling2D</span>)    │ (<span style=\"color: #00d7ff; text-decoration-color: #00d7ff\">None</span>, <span style=\"color: #00af00; text-decoration-color: #00af00\">63</span>, <span style=\"color: #00af00; text-decoration-color: #00af00\">63</span>, <span style=\"color: #00af00; text-decoration-color: #00af00\">32</span>)     │             <span style=\"color: #00af00; text-decoration-color: #00af00\">0</span> │\n",
       "├─────────────────────────────────┼────────────────────────┼───────────────┤\n",
       "│ conv2d_1 (<span style=\"color: #0087ff; text-decoration-color: #0087ff\">Conv2D</span>)               │ (<span style=\"color: #00d7ff; text-decoration-color: #00d7ff\">None</span>, <span style=\"color: #00af00; text-decoration-color: #00af00\">61</span>, <span style=\"color: #00af00; text-decoration-color: #00af00\">61</span>, <span style=\"color: #00af00; text-decoration-color: #00af00\">64</span>)     │        <span style=\"color: #00af00; text-decoration-color: #00af00\">18,496</span> │\n",
       "├─────────────────────────────────┼────────────────────────┼───────────────┤\n",
       "│ max_pooling2d_1 (<span style=\"color: #0087ff; text-decoration-color: #0087ff\">MaxPooling2D</span>)  │ (<span style=\"color: #00d7ff; text-decoration-color: #00d7ff\">None</span>, <span style=\"color: #00af00; text-decoration-color: #00af00\">30</span>, <span style=\"color: #00af00; text-decoration-color: #00af00\">30</span>, <span style=\"color: #00af00; text-decoration-color: #00af00\">64</span>)     │             <span style=\"color: #00af00; text-decoration-color: #00af00\">0</span> │\n",
       "├─────────────────────────────────┼────────────────────────┼───────────────┤\n",
       "│ conv2d_2 (<span style=\"color: #0087ff; text-decoration-color: #0087ff\">Conv2D</span>)               │ (<span style=\"color: #00d7ff; text-decoration-color: #00d7ff\">None</span>, <span style=\"color: #00af00; text-decoration-color: #00af00\">28</span>, <span style=\"color: #00af00; text-decoration-color: #00af00\">28</span>, <span style=\"color: #00af00; text-decoration-color: #00af00\">128</span>)    │        <span style=\"color: #00af00; text-decoration-color: #00af00\">73,856</span> │\n",
       "├─────────────────────────────────┼────────────────────────┼───────────────┤\n",
       "│ max_pooling2d_2 (<span style=\"color: #0087ff; text-decoration-color: #0087ff\">MaxPooling2D</span>)  │ (<span style=\"color: #00d7ff; text-decoration-color: #00d7ff\">None</span>, <span style=\"color: #00af00; text-decoration-color: #00af00\">14</span>, <span style=\"color: #00af00; text-decoration-color: #00af00\">14</span>, <span style=\"color: #00af00; text-decoration-color: #00af00\">128</span>)    │             <span style=\"color: #00af00; text-decoration-color: #00af00\">0</span> │\n",
       "├─────────────────────────────────┼────────────────────────┼───────────────┤\n",
       "│ flatten (<span style=\"color: #0087ff; text-decoration-color: #0087ff\">Flatten</span>)               │ (<span style=\"color: #00d7ff; text-decoration-color: #00d7ff\">None</span>, <span style=\"color: #00af00; text-decoration-color: #00af00\">25088</span>)          │             <span style=\"color: #00af00; text-decoration-color: #00af00\">0</span> │\n",
       "├─────────────────────────────────┼────────────────────────┼───────────────┤\n",
       "│ dense (<span style=\"color: #0087ff; text-decoration-color: #0087ff\">Dense</span>)                   │ (<span style=\"color: #00d7ff; text-decoration-color: #00d7ff\">None</span>, <span style=\"color: #00af00; text-decoration-color: #00af00\">256</span>)            │     <span style=\"color: #00af00; text-decoration-color: #00af00\">6,422,784</span> │\n",
       "├─────────────────────────────────┼────────────────────────┼───────────────┤\n",
       "│ dropout (<span style=\"color: #0087ff; text-decoration-color: #0087ff\">Dropout</span>)               │ (<span style=\"color: #00d7ff; text-decoration-color: #00d7ff\">None</span>, <span style=\"color: #00af00; text-decoration-color: #00af00\">256</span>)            │             <span style=\"color: #00af00; text-decoration-color: #00af00\">0</span> │\n",
       "├─────────────────────────────────┼────────────────────────┼───────────────┤\n",
       "│ dense_1 (<span style=\"color: #0087ff; text-decoration-color: #0087ff\">Dense</span>)                 │ (<span style=\"color: #00d7ff; text-decoration-color: #00d7ff\">None</span>, <span style=\"color: #00af00; text-decoration-color: #00af00\">3</span>)              │           <span style=\"color: #00af00; text-decoration-color: #00af00\">771</span> │\n",
       "└─────────────────────────────────┴────────────────────────┴───────────────┘\n",
       "</pre>\n"
      ],
      "text/plain": [
       "┏━━━━━━━━━━━━━━━━━━━━━━━━━━━━━━━━━┳━━━━━━━━━━━━━━━━━━━━━━━━┳━━━━━━━━━━━━━━━┓\n",
       "┃\u001b[1m \u001b[0m\u001b[1mLayer (type)                   \u001b[0m\u001b[1m \u001b[0m┃\u001b[1m \u001b[0m\u001b[1mOutput Shape          \u001b[0m\u001b[1m \u001b[0m┃\u001b[1m \u001b[0m\u001b[1m      Param #\u001b[0m\u001b[1m \u001b[0m┃\n",
       "┡━━━━━━━━━━━━━━━━━━━━━━━━━━━━━━━━━╇━━━━━━━━━━━━━━━━━━━━━━━━╇━━━━━━━━━━━━━━━┩\n",
       "│ conv2d (\u001b[38;5;33mConv2D\u001b[0m)                 │ (\u001b[38;5;45mNone\u001b[0m, \u001b[38;5;34m126\u001b[0m, \u001b[38;5;34m126\u001b[0m, \u001b[38;5;34m32\u001b[0m)   │           \u001b[38;5;34m896\u001b[0m │\n",
       "├─────────────────────────────────┼────────────────────────┼───────────────┤\n",
       "│ max_pooling2d (\u001b[38;5;33mMaxPooling2D\u001b[0m)    │ (\u001b[38;5;45mNone\u001b[0m, \u001b[38;5;34m63\u001b[0m, \u001b[38;5;34m63\u001b[0m, \u001b[38;5;34m32\u001b[0m)     │             \u001b[38;5;34m0\u001b[0m │\n",
       "├─────────────────────────────────┼────────────────────────┼───────────────┤\n",
       "│ conv2d_1 (\u001b[38;5;33mConv2D\u001b[0m)               │ (\u001b[38;5;45mNone\u001b[0m, \u001b[38;5;34m61\u001b[0m, \u001b[38;5;34m61\u001b[0m, \u001b[38;5;34m64\u001b[0m)     │        \u001b[38;5;34m18,496\u001b[0m │\n",
       "├─────────────────────────────────┼────────────────────────┼───────────────┤\n",
       "│ max_pooling2d_1 (\u001b[38;5;33mMaxPooling2D\u001b[0m)  │ (\u001b[38;5;45mNone\u001b[0m, \u001b[38;5;34m30\u001b[0m, \u001b[38;5;34m30\u001b[0m, \u001b[38;5;34m64\u001b[0m)     │             \u001b[38;5;34m0\u001b[0m │\n",
       "├─────────────────────────────────┼────────────────────────┼───────────────┤\n",
       "│ conv2d_2 (\u001b[38;5;33mConv2D\u001b[0m)               │ (\u001b[38;5;45mNone\u001b[0m, \u001b[38;5;34m28\u001b[0m, \u001b[38;5;34m28\u001b[0m, \u001b[38;5;34m128\u001b[0m)    │        \u001b[38;5;34m73,856\u001b[0m │\n",
       "├─────────────────────────────────┼────────────────────────┼───────────────┤\n",
       "│ max_pooling2d_2 (\u001b[38;5;33mMaxPooling2D\u001b[0m)  │ (\u001b[38;5;45mNone\u001b[0m, \u001b[38;5;34m14\u001b[0m, \u001b[38;5;34m14\u001b[0m, \u001b[38;5;34m128\u001b[0m)    │             \u001b[38;5;34m0\u001b[0m │\n",
       "├─────────────────────────────────┼────────────────────────┼───────────────┤\n",
       "│ flatten (\u001b[38;5;33mFlatten\u001b[0m)               │ (\u001b[38;5;45mNone\u001b[0m, \u001b[38;5;34m25088\u001b[0m)          │             \u001b[38;5;34m0\u001b[0m │\n",
       "├─────────────────────────────────┼────────────────────────┼───────────────┤\n",
       "│ dense (\u001b[38;5;33mDense\u001b[0m)                   │ (\u001b[38;5;45mNone\u001b[0m, \u001b[38;5;34m256\u001b[0m)            │     \u001b[38;5;34m6,422,784\u001b[0m │\n",
       "├─────────────────────────────────┼────────────────────────┼───────────────┤\n",
       "│ dropout (\u001b[38;5;33mDropout\u001b[0m)               │ (\u001b[38;5;45mNone\u001b[0m, \u001b[38;5;34m256\u001b[0m)            │             \u001b[38;5;34m0\u001b[0m │\n",
       "├─────────────────────────────────┼────────────────────────┼───────────────┤\n",
       "│ dense_1 (\u001b[38;5;33mDense\u001b[0m)                 │ (\u001b[38;5;45mNone\u001b[0m, \u001b[38;5;34m3\u001b[0m)              │           \u001b[38;5;34m771\u001b[0m │\n",
       "└─────────────────────────────────┴────────────────────────┴───────────────┘\n"
      ]
     },
     "metadata": {},
     "output_type": "display_data"
    },
    {
     "data": {
      "text/html": [
       "<pre style=\"white-space:pre;overflow-x:auto;line-height:normal;font-family:Menlo,'DejaVu Sans Mono',consolas,'Courier New',monospace\"><span style=\"font-weight: bold\"> Total params: </span><span style=\"color: #00af00; text-decoration-color: #00af00\">6,516,803</span> (24.86 MB)\n",
       "</pre>\n"
      ],
      "text/plain": [
       "\u001b[1m Total params: \u001b[0m\u001b[38;5;34m6,516,803\u001b[0m (24.86 MB)\n"
      ]
     },
     "metadata": {},
     "output_type": "display_data"
    },
    {
     "data": {
      "text/html": [
       "<pre style=\"white-space:pre;overflow-x:auto;line-height:normal;font-family:Menlo,'DejaVu Sans Mono',consolas,'Courier New',monospace\"><span style=\"font-weight: bold\"> Trainable params: </span><span style=\"color: #00af00; text-decoration-color: #00af00\">6,516,803</span> (24.86 MB)\n",
       "</pre>\n"
      ],
      "text/plain": [
       "\u001b[1m Trainable params: \u001b[0m\u001b[38;5;34m6,516,803\u001b[0m (24.86 MB)\n"
      ]
     },
     "metadata": {},
     "output_type": "display_data"
    },
    {
     "data": {
      "text/html": [
       "<pre style=\"white-space:pre;overflow-x:auto;line-height:normal;font-family:Menlo,'DejaVu Sans Mono',consolas,'Courier New',monospace\"><span style=\"font-weight: bold\"> Non-trainable params: </span><span style=\"color: #00af00; text-decoration-color: #00af00\">0</span> (0.00 B)\n",
       "</pre>\n"
      ],
      "text/plain": [
       "\u001b[1m Non-trainable params: \u001b[0m\u001b[38;5;34m0\u001b[0m (0.00 B)\n"
      ]
     },
     "metadata": {},
     "output_type": "display_data"
    }
   ],
   "source": [
    "# Modelo 1: CNN básica\n",
    "model_1 = Sequential([\n",
    "    Conv2D(32, (3, 3), activation='relu', input_shape=(128, 128, 3)),\n",
    "    MaxPooling2D(2, 2),\n",
    "    Conv2D(64, (3, 3), activation='relu'),\n",
    "    MaxPooling2D(2, 2),\n",
    "    Conv2D(128, (3, 3), activation='relu'),\n",
    "    MaxPooling2D(2, 2),\n",
    "    Flatten(),\n",
    "    Dense(256, activation='relu'),\n",
    "    Dropout(0.5),\n",
    "    Dense(train_generator.num_classes, activation='softmax')  # Cambia según las clases que tengas\n",
    "])\n",
    "\n",
    "# Compilar el Modelo 1\n",
    "model_1.compile(optimizer='adam', loss='categorical_crossentropy', metrics=['accuracy'])\n",
    "\n",
    "# Imprimir un resumen del modelo\n",
    "model_1.summary()\n"
   ]
  },
  {
   "cell_type": "markdown",
   "metadata": {},
   "source": [
    "**Análisis:**\n",
    "\n",
    "- Total de Parámetros: El modelo tiene 6,516,803 parámetros entrenables. La mayor parte de estos parámetros (6,422,784) se encuentran en la primera capa densa después del aplanamiento, lo cual es típico, ya que las capas densas tienden a tener muchos parámetros cuando se conectan a todas las características aplanadas.\n",
    "    \n",
    "- Eficiencia y Complejidad: Con un tamaño de entrada de 128×128 píxeles, el modelo se mantiene relativamente simple pero aún captura suficiente información visual con tres capas convolucionales. Sin embargo, el alto número de parámetros en la capa densa puede hacer que el modelo consuma más memoria y tiempo de procesamiento, aunque también le permite aprender características complejas si el conjunto de datos es lo suficientemente amplio.\n",
    "\n",
    "- Uso de Memoria: Con un total de 24.86 MB de memoria para almacenar los parámetros, este modelo es manejable en términos de uso de recursos para la mayoría de los entornos de entrenamiento."
   ]
  },
  {
   "cell_type": "markdown",
   "metadata": {},
   "source": [
    "Esta arquitectura básica de CNN tiene el potencial de aprender patrones complejos en las imágenes de tamaño reducido 128×128, con un enfoque en eficiencia computacional. Sin embargo, el modelo podría beneficiarse de un ajuste en la cantidad de neuronas en la capa densa o incluso de una capa densa adicional para encontrar un mejor equilibrio entre capacidad de aprendizaje y eficiencia."
   ]
  },
  {
   "cell_type": "markdown",
   "metadata": {},
   "source": [
    "**Modelo 2: CNN Más Profunda con Batch Normalization**"
   ]
  },
  {
   "cell_type": "markdown",
   "metadata": {},
   "source": [
    "Este segundo modelo es una Red Neuronal Convolucional (CNN) más profunda que la primera, diseñada para mejorar la capacidad de generalización y aprendizaje al introducir más capas convolucionales y técnicas de regularización como Batch Normalization. La arquitectura es la siguiente:\n",
    "\n",
    "1. Capas Convolucionales y de Pooling:\n",
    "\n",
    "    - Contiene cuatro capas convolucionales con un número creciente de filtros (32, 64, 128 y 256), lo que permite al modelo captar características visuales cada vez más complejas.\n",
    "    - Cada capa convolucional es seguida por una capa de Batch Normalization, que estabiliza el proceso de entrenamiento y mejora la velocidad de convergencia.\n",
    "    - Después de cada capa de Batch Normalization, se aplica una capa de MaxPooling, que reduce las dimensiones de las características y ayuda a controlar la complejidad del modelo.\n",
    "\n",
    "2. Capas de Aplanamiento y Densas:\n",
    "\n",
    "    - La capa Flatten convierte la salida de las capas convolucionales en un vector de una dimensión, preparándola para la entrada en las capas densas.\n",
    "    - Dos capas densas con 512 y 256 unidades, respectivamente, procesan las características extraídas. Cada capa densa está seguida por una capa de Dropout con una tasa del 50%, lo cual ayuda a prevenir el sobreajuste.\n",
    "    - La capa de salida con activación softmax clasifica las imágenes en tres categorías.\n",
    "\n",
    "3. Compilación del Modelo:\n",
    "\n",
    "    - El modelo se compila con el optimizador adam, la función de pérdida categorical_crossentropy para clasificación multiclase, y la métrica de precisión (accuracy) para evaluar su desempeño."
   ]
  },
  {
   "cell_type": "code",
   "execution_count": 9,
   "metadata": {},
   "outputs": [
    {
     "data": {
      "text/html": [
       "<pre style=\"white-space:pre;overflow-x:auto;line-height:normal;font-family:Menlo,'DejaVu Sans Mono',consolas,'Courier New',monospace\"><span style=\"font-weight: bold\">Model: \"sequential_1\"</span>\n",
       "</pre>\n"
      ],
      "text/plain": [
       "\u001b[1mModel: \"sequential_1\"\u001b[0m\n"
      ]
     },
     "metadata": {},
     "output_type": "display_data"
    },
    {
     "data": {
      "text/html": [
       "<pre style=\"white-space:pre;overflow-x:auto;line-height:normal;font-family:Menlo,'DejaVu Sans Mono',consolas,'Courier New',monospace\">┏━━━━━━━━━━━━━━━━━━━━━━━━━━━━━━━━━┳━━━━━━━━━━━━━━━━━━━━━━━━┳━━━━━━━━━━━━━━━┓\n",
       "┃<span style=\"font-weight: bold\"> Layer (type)                    </span>┃<span style=\"font-weight: bold\"> Output Shape           </span>┃<span style=\"font-weight: bold\">       Param # </span>┃\n",
       "┡━━━━━━━━━━━━━━━━━━━━━━━━━━━━━━━━━╇━━━━━━━━━━━━━━━━━━━━━━━━╇━━━━━━━━━━━━━━━┩\n",
       "│ conv2d_3 (<span style=\"color: #0087ff; text-decoration-color: #0087ff\">Conv2D</span>)               │ (<span style=\"color: #00d7ff; text-decoration-color: #00d7ff\">None</span>, <span style=\"color: #00af00; text-decoration-color: #00af00\">126</span>, <span style=\"color: #00af00; text-decoration-color: #00af00\">126</span>, <span style=\"color: #00af00; text-decoration-color: #00af00\">32</span>)   │           <span style=\"color: #00af00; text-decoration-color: #00af00\">896</span> │\n",
       "├─────────────────────────────────┼────────────────────────┼───────────────┤\n",
       "│ batch_normalization             │ (<span style=\"color: #00d7ff; text-decoration-color: #00d7ff\">None</span>, <span style=\"color: #00af00; text-decoration-color: #00af00\">126</span>, <span style=\"color: #00af00; text-decoration-color: #00af00\">126</span>, <span style=\"color: #00af00; text-decoration-color: #00af00\">32</span>)   │           <span style=\"color: #00af00; text-decoration-color: #00af00\">128</span> │\n",
       "│ (<span style=\"color: #0087ff; text-decoration-color: #0087ff\">BatchNormalization</span>)            │                        │               │\n",
       "├─────────────────────────────────┼────────────────────────┼───────────────┤\n",
       "│ max_pooling2d_3 (<span style=\"color: #0087ff; text-decoration-color: #0087ff\">MaxPooling2D</span>)  │ (<span style=\"color: #00d7ff; text-decoration-color: #00d7ff\">None</span>, <span style=\"color: #00af00; text-decoration-color: #00af00\">63</span>, <span style=\"color: #00af00; text-decoration-color: #00af00\">63</span>, <span style=\"color: #00af00; text-decoration-color: #00af00\">32</span>)     │             <span style=\"color: #00af00; text-decoration-color: #00af00\">0</span> │\n",
       "├─────────────────────────────────┼────────────────────────┼───────────────┤\n",
       "│ conv2d_4 (<span style=\"color: #0087ff; text-decoration-color: #0087ff\">Conv2D</span>)               │ (<span style=\"color: #00d7ff; text-decoration-color: #00d7ff\">None</span>, <span style=\"color: #00af00; text-decoration-color: #00af00\">61</span>, <span style=\"color: #00af00; text-decoration-color: #00af00\">61</span>, <span style=\"color: #00af00; text-decoration-color: #00af00\">64</span>)     │        <span style=\"color: #00af00; text-decoration-color: #00af00\">18,496</span> │\n",
       "├─────────────────────────────────┼────────────────────────┼───────────────┤\n",
       "│ batch_normalization_1           │ (<span style=\"color: #00d7ff; text-decoration-color: #00d7ff\">None</span>, <span style=\"color: #00af00; text-decoration-color: #00af00\">61</span>, <span style=\"color: #00af00; text-decoration-color: #00af00\">61</span>, <span style=\"color: #00af00; text-decoration-color: #00af00\">64</span>)     │           <span style=\"color: #00af00; text-decoration-color: #00af00\">256</span> │\n",
       "│ (<span style=\"color: #0087ff; text-decoration-color: #0087ff\">BatchNormalization</span>)            │                        │               │\n",
       "├─────────────────────────────────┼────────────────────────┼───────────────┤\n",
       "│ max_pooling2d_4 (<span style=\"color: #0087ff; text-decoration-color: #0087ff\">MaxPooling2D</span>)  │ (<span style=\"color: #00d7ff; text-decoration-color: #00d7ff\">None</span>, <span style=\"color: #00af00; text-decoration-color: #00af00\">30</span>, <span style=\"color: #00af00; text-decoration-color: #00af00\">30</span>, <span style=\"color: #00af00; text-decoration-color: #00af00\">64</span>)     │             <span style=\"color: #00af00; text-decoration-color: #00af00\">0</span> │\n",
       "├─────────────────────────────────┼────────────────────────┼───────────────┤\n",
       "│ conv2d_5 (<span style=\"color: #0087ff; text-decoration-color: #0087ff\">Conv2D</span>)               │ (<span style=\"color: #00d7ff; text-decoration-color: #00d7ff\">None</span>, <span style=\"color: #00af00; text-decoration-color: #00af00\">28</span>, <span style=\"color: #00af00; text-decoration-color: #00af00\">28</span>, <span style=\"color: #00af00; text-decoration-color: #00af00\">128</span>)    │        <span style=\"color: #00af00; text-decoration-color: #00af00\">73,856</span> │\n",
       "├─────────────────────────────────┼────────────────────────┼───────────────┤\n",
       "│ batch_normalization_2           │ (<span style=\"color: #00d7ff; text-decoration-color: #00d7ff\">None</span>, <span style=\"color: #00af00; text-decoration-color: #00af00\">28</span>, <span style=\"color: #00af00; text-decoration-color: #00af00\">28</span>, <span style=\"color: #00af00; text-decoration-color: #00af00\">128</span>)    │           <span style=\"color: #00af00; text-decoration-color: #00af00\">512</span> │\n",
       "│ (<span style=\"color: #0087ff; text-decoration-color: #0087ff\">BatchNormalization</span>)            │                        │               │\n",
       "├─────────────────────────────────┼────────────────────────┼───────────────┤\n",
       "│ max_pooling2d_5 (<span style=\"color: #0087ff; text-decoration-color: #0087ff\">MaxPooling2D</span>)  │ (<span style=\"color: #00d7ff; text-decoration-color: #00d7ff\">None</span>, <span style=\"color: #00af00; text-decoration-color: #00af00\">14</span>, <span style=\"color: #00af00; text-decoration-color: #00af00\">14</span>, <span style=\"color: #00af00; text-decoration-color: #00af00\">128</span>)    │             <span style=\"color: #00af00; text-decoration-color: #00af00\">0</span> │\n",
       "├─────────────────────────────────┼────────────────────────┼───────────────┤\n",
       "│ conv2d_6 (<span style=\"color: #0087ff; text-decoration-color: #0087ff\">Conv2D</span>)               │ (<span style=\"color: #00d7ff; text-decoration-color: #00d7ff\">None</span>, <span style=\"color: #00af00; text-decoration-color: #00af00\">12</span>, <span style=\"color: #00af00; text-decoration-color: #00af00\">12</span>, <span style=\"color: #00af00; text-decoration-color: #00af00\">256</span>)    │       <span style=\"color: #00af00; text-decoration-color: #00af00\">295,168</span> │\n",
       "├─────────────────────────────────┼────────────────────────┼───────────────┤\n",
       "│ batch_normalization_3           │ (<span style=\"color: #00d7ff; text-decoration-color: #00d7ff\">None</span>, <span style=\"color: #00af00; text-decoration-color: #00af00\">12</span>, <span style=\"color: #00af00; text-decoration-color: #00af00\">12</span>, <span style=\"color: #00af00; text-decoration-color: #00af00\">256</span>)    │         <span style=\"color: #00af00; text-decoration-color: #00af00\">1,024</span> │\n",
       "│ (<span style=\"color: #0087ff; text-decoration-color: #0087ff\">BatchNormalization</span>)            │                        │               │\n",
       "├─────────────────────────────────┼────────────────────────┼───────────────┤\n",
       "│ max_pooling2d_6 (<span style=\"color: #0087ff; text-decoration-color: #0087ff\">MaxPooling2D</span>)  │ (<span style=\"color: #00d7ff; text-decoration-color: #00d7ff\">None</span>, <span style=\"color: #00af00; text-decoration-color: #00af00\">6</span>, <span style=\"color: #00af00; text-decoration-color: #00af00\">6</span>, <span style=\"color: #00af00; text-decoration-color: #00af00\">256</span>)      │             <span style=\"color: #00af00; text-decoration-color: #00af00\">0</span> │\n",
       "├─────────────────────────────────┼────────────────────────┼───────────────┤\n",
       "│ flatten_1 (<span style=\"color: #0087ff; text-decoration-color: #0087ff\">Flatten</span>)             │ (<span style=\"color: #00d7ff; text-decoration-color: #00d7ff\">None</span>, <span style=\"color: #00af00; text-decoration-color: #00af00\">9216</span>)           │             <span style=\"color: #00af00; text-decoration-color: #00af00\">0</span> │\n",
       "├─────────────────────────────────┼────────────────────────┼───────────────┤\n",
       "│ dense_2 (<span style=\"color: #0087ff; text-decoration-color: #0087ff\">Dense</span>)                 │ (<span style=\"color: #00d7ff; text-decoration-color: #00d7ff\">None</span>, <span style=\"color: #00af00; text-decoration-color: #00af00\">512</span>)            │     <span style=\"color: #00af00; text-decoration-color: #00af00\">4,719,104</span> │\n",
       "├─────────────────────────────────┼────────────────────────┼───────────────┤\n",
       "│ dropout_1 (<span style=\"color: #0087ff; text-decoration-color: #0087ff\">Dropout</span>)             │ (<span style=\"color: #00d7ff; text-decoration-color: #00d7ff\">None</span>, <span style=\"color: #00af00; text-decoration-color: #00af00\">512</span>)            │             <span style=\"color: #00af00; text-decoration-color: #00af00\">0</span> │\n",
       "├─────────────────────────────────┼────────────────────────┼───────────────┤\n",
       "│ dense_3 (<span style=\"color: #0087ff; text-decoration-color: #0087ff\">Dense</span>)                 │ (<span style=\"color: #00d7ff; text-decoration-color: #00d7ff\">None</span>, <span style=\"color: #00af00; text-decoration-color: #00af00\">256</span>)            │       <span style=\"color: #00af00; text-decoration-color: #00af00\">131,328</span> │\n",
       "├─────────────────────────────────┼────────────────────────┼───────────────┤\n",
       "│ dropout_2 (<span style=\"color: #0087ff; text-decoration-color: #0087ff\">Dropout</span>)             │ (<span style=\"color: #00d7ff; text-decoration-color: #00d7ff\">None</span>, <span style=\"color: #00af00; text-decoration-color: #00af00\">256</span>)            │             <span style=\"color: #00af00; text-decoration-color: #00af00\">0</span> │\n",
       "├─────────────────────────────────┼────────────────────────┼───────────────┤\n",
       "│ dense_4 (<span style=\"color: #0087ff; text-decoration-color: #0087ff\">Dense</span>)                 │ (<span style=\"color: #00d7ff; text-decoration-color: #00d7ff\">None</span>, <span style=\"color: #00af00; text-decoration-color: #00af00\">3</span>)              │           <span style=\"color: #00af00; text-decoration-color: #00af00\">771</span> │\n",
       "└─────────────────────────────────┴────────────────────────┴───────────────┘\n",
       "</pre>\n"
      ],
      "text/plain": [
       "┏━━━━━━━━━━━━━━━━━━━━━━━━━━━━━━━━━┳━━━━━━━━━━━━━━━━━━━━━━━━┳━━━━━━━━━━━━━━━┓\n",
       "┃\u001b[1m \u001b[0m\u001b[1mLayer (type)                   \u001b[0m\u001b[1m \u001b[0m┃\u001b[1m \u001b[0m\u001b[1mOutput Shape          \u001b[0m\u001b[1m \u001b[0m┃\u001b[1m \u001b[0m\u001b[1m      Param #\u001b[0m\u001b[1m \u001b[0m┃\n",
       "┡━━━━━━━━━━━━━━━━━━━━━━━━━━━━━━━━━╇━━━━━━━━━━━━━━━━━━━━━━━━╇━━━━━━━━━━━━━━━┩\n",
       "│ conv2d_3 (\u001b[38;5;33mConv2D\u001b[0m)               │ (\u001b[38;5;45mNone\u001b[0m, \u001b[38;5;34m126\u001b[0m, \u001b[38;5;34m126\u001b[0m, \u001b[38;5;34m32\u001b[0m)   │           \u001b[38;5;34m896\u001b[0m │\n",
       "├─────────────────────────────────┼────────────────────────┼───────────────┤\n",
       "│ batch_normalization             │ (\u001b[38;5;45mNone\u001b[0m, \u001b[38;5;34m126\u001b[0m, \u001b[38;5;34m126\u001b[0m, \u001b[38;5;34m32\u001b[0m)   │           \u001b[38;5;34m128\u001b[0m │\n",
       "│ (\u001b[38;5;33mBatchNormalization\u001b[0m)            │                        │               │\n",
       "├─────────────────────────────────┼────────────────────────┼───────────────┤\n",
       "│ max_pooling2d_3 (\u001b[38;5;33mMaxPooling2D\u001b[0m)  │ (\u001b[38;5;45mNone\u001b[0m, \u001b[38;5;34m63\u001b[0m, \u001b[38;5;34m63\u001b[0m, \u001b[38;5;34m32\u001b[0m)     │             \u001b[38;5;34m0\u001b[0m │\n",
       "├─────────────────────────────────┼────────────────────────┼───────────────┤\n",
       "│ conv2d_4 (\u001b[38;5;33mConv2D\u001b[0m)               │ (\u001b[38;5;45mNone\u001b[0m, \u001b[38;5;34m61\u001b[0m, \u001b[38;5;34m61\u001b[0m, \u001b[38;5;34m64\u001b[0m)     │        \u001b[38;5;34m18,496\u001b[0m │\n",
       "├─────────────────────────────────┼────────────────────────┼───────────────┤\n",
       "│ batch_normalization_1           │ (\u001b[38;5;45mNone\u001b[0m, \u001b[38;5;34m61\u001b[0m, \u001b[38;5;34m61\u001b[0m, \u001b[38;5;34m64\u001b[0m)     │           \u001b[38;5;34m256\u001b[0m │\n",
       "│ (\u001b[38;5;33mBatchNormalization\u001b[0m)            │                        │               │\n",
       "├─────────────────────────────────┼────────────────────────┼───────────────┤\n",
       "│ max_pooling2d_4 (\u001b[38;5;33mMaxPooling2D\u001b[0m)  │ (\u001b[38;5;45mNone\u001b[0m, \u001b[38;5;34m30\u001b[0m, \u001b[38;5;34m30\u001b[0m, \u001b[38;5;34m64\u001b[0m)     │             \u001b[38;5;34m0\u001b[0m │\n",
       "├─────────────────────────────────┼────────────────────────┼───────────────┤\n",
       "│ conv2d_5 (\u001b[38;5;33mConv2D\u001b[0m)               │ (\u001b[38;5;45mNone\u001b[0m, \u001b[38;5;34m28\u001b[0m, \u001b[38;5;34m28\u001b[0m, \u001b[38;5;34m128\u001b[0m)    │        \u001b[38;5;34m73,856\u001b[0m │\n",
       "├─────────────────────────────────┼────────────────────────┼───────────────┤\n",
       "│ batch_normalization_2           │ (\u001b[38;5;45mNone\u001b[0m, \u001b[38;5;34m28\u001b[0m, \u001b[38;5;34m28\u001b[0m, \u001b[38;5;34m128\u001b[0m)    │           \u001b[38;5;34m512\u001b[0m │\n",
       "│ (\u001b[38;5;33mBatchNormalization\u001b[0m)            │                        │               │\n",
       "├─────────────────────────────────┼────────────────────────┼───────────────┤\n",
       "│ max_pooling2d_5 (\u001b[38;5;33mMaxPooling2D\u001b[0m)  │ (\u001b[38;5;45mNone\u001b[0m, \u001b[38;5;34m14\u001b[0m, \u001b[38;5;34m14\u001b[0m, \u001b[38;5;34m128\u001b[0m)    │             \u001b[38;5;34m0\u001b[0m │\n",
       "├─────────────────────────────────┼────────────────────────┼───────────────┤\n",
       "│ conv2d_6 (\u001b[38;5;33mConv2D\u001b[0m)               │ (\u001b[38;5;45mNone\u001b[0m, \u001b[38;5;34m12\u001b[0m, \u001b[38;5;34m12\u001b[0m, \u001b[38;5;34m256\u001b[0m)    │       \u001b[38;5;34m295,168\u001b[0m │\n",
       "├─────────────────────────────────┼────────────────────────┼───────────────┤\n",
       "│ batch_normalization_3           │ (\u001b[38;5;45mNone\u001b[0m, \u001b[38;5;34m12\u001b[0m, \u001b[38;5;34m12\u001b[0m, \u001b[38;5;34m256\u001b[0m)    │         \u001b[38;5;34m1,024\u001b[0m │\n",
       "│ (\u001b[38;5;33mBatchNormalization\u001b[0m)            │                        │               │\n",
       "├─────────────────────────────────┼────────────────────────┼───────────────┤\n",
       "│ max_pooling2d_6 (\u001b[38;5;33mMaxPooling2D\u001b[0m)  │ (\u001b[38;5;45mNone\u001b[0m, \u001b[38;5;34m6\u001b[0m, \u001b[38;5;34m6\u001b[0m, \u001b[38;5;34m256\u001b[0m)      │             \u001b[38;5;34m0\u001b[0m │\n",
       "├─────────────────────────────────┼────────────────────────┼───────────────┤\n",
       "│ flatten_1 (\u001b[38;5;33mFlatten\u001b[0m)             │ (\u001b[38;5;45mNone\u001b[0m, \u001b[38;5;34m9216\u001b[0m)           │             \u001b[38;5;34m0\u001b[0m │\n",
       "├─────────────────────────────────┼────────────────────────┼───────────────┤\n",
       "│ dense_2 (\u001b[38;5;33mDense\u001b[0m)                 │ (\u001b[38;5;45mNone\u001b[0m, \u001b[38;5;34m512\u001b[0m)            │     \u001b[38;5;34m4,719,104\u001b[0m │\n",
       "├─────────────────────────────────┼────────────────────────┼───────────────┤\n",
       "│ dropout_1 (\u001b[38;5;33mDropout\u001b[0m)             │ (\u001b[38;5;45mNone\u001b[0m, \u001b[38;5;34m512\u001b[0m)            │             \u001b[38;5;34m0\u001b[0m │\n",
       "├─────────────────────────────────┼────────────────────────┼───────────────┤\n",
       "│ dense_3 (\u001b[38;5;33mDense\u001b[0m)                 │ (\u001b[38;5;45mNone\u001b[0m, \u001b[38;5;34m256\u001b[0m)            │       \u001b[38;5;34m131,328\u001b[0m │\n",
       "├─────────────────────────────────┼────────────────────────┼───────────────┤\n",
       "│ dropout_2 (\u001b[38;5;33mDropout\u001b[0m)             │ (\u001b[38;5;45mNone\u001b[0m, \u001b[38;5;34m256\u001b[0m)            │             \u001b[38;5;34m0\u001b[0m │\n",
       "├─────────────────────────────────┼────────────────────────┼───────────────┤\n",
       "│ dense_4 (\u001b[38;5;33mDense\u001b[0m)                 │ (\u001b[38;5;45mNone\u001b[0m, \u001b[38;5;34m3\u001b[0m)              │           \u001b[38;5;34m771\u001b[0m │\n",
       "└─────────────────────────────────┴────────────────────────┴───────────────┘\n"
      ]
     },
     "metadata": {},
     "output_type": "display_data"
    },
    {
     "data": {
      "text/html": [
       "<pre style=\"white-space:pre;overflow-x:auto;line-height:normal;font-family:Menlo,'DejaVu Sans Mono',consolas,'Courier New',monospace\"><span style=\"font-weight: bold\"> Total params: </span><span style=\"color: #00af00; text-decoration-color: #00af00\">5,241,539</span> (19.99 MB)\n",
       "</pre>\n"
      ],
      "text/plain": [
       "\u001b[1m Total params: \u001b[0m\u001b[38;5;34m5,241,539\u001b[0m (19.99 MB)\n"
      ]
     },
     "metadata": {},
     "output_type": "display_data"
    },
    {
     "data": {
      "text/html": [
       "<pre style=\"white-space:pre;overflow-x:auto;line-height:normal;font-family:Menlo,'DejaVu Sans Mono',consolas,'Courier New',monospace\"><span style=\"font-weight: bold\"> Trainable params: </span><span style=\"color: #00af00; text-decoration-color: #00af00\">5,240,579</span> (19.99 MB)\n",
       "</pre>\n"
      ],
      "text/plain": [
       "\u001b[1m Trainable params: \u001b[0m\u001b[38;5;34m5,240,579\u001b[0m (19.99 MB)\n"
      ]
     },
     "metadata": {},
     "output_type": "display_data"
    },
    {
     "data": {
      "text/html": [
       "<pre style=\"white-space:pre;overflow-x:auto;line-height:normal;font-family:Menlo,'DejaVu Sans Mono',consolas,'Courier New',monospace\"><span style=\"font-weight: bold\"> Non-trainable params: </span><span style=\"color: #00af00; text-decoration-color: #00af00\">960</span> (3.75 KB)\n",
       "</pre>\n"
      ],
      "text/plain": [
       "\u001b[1m Non-trainable params: \u001b[0m\u001b[38;5;34m960\u001b[0m (3.75 KB)\n"
      ]
     },
     "metadata": {},
     "output_type": "display_data"
    }
   ],
   "source": [
    "# Modelo 2: CNN con mayor profundidad y Batch Normalization\n",
    "model_2 = Sequential([\n",
    "    Conv2D(32, (3, 3), activation='relu', input_shape=(128, 128, 3)),\n",
    "    BatchNormalization(),\n",
    "    MaxPooling2D(2, 2),\n",
    "    \n",
    "    Conv2D(64, (3, 3), activation='relu'),\n",
    "    BatchNormalization(),\n",
    "    MaxPooling2D(2, 2),\n",
    "    \n",
    "    Conv2D(128, (3, 3), activation='relu'),\n",
    "    BatchNormalization(),\n",
    "    MaxPooling2D(2, 2),\n",
    "    \n",
    "    Conv2D(256, (3, 3), activation='relu'),\n",
    "    BatchNormalization(),\n",
    "    MaxPooling2D(2, 2),\n",
    "    \n",
    "    Flatten(),\n",
    "    Dense(512, activation='relu'),\n",
    "    Dropout(0.5),\n",
    "    Dense(256, activation='relu'),\n",
    "    Dropout(0.5),\n",
    "    Dense(train_generator.num_classes, activation='softmax')  # Cambia según tus clases\n",
    "])\n",
    "\n",
    "# Compilar el Modelo 2\n",
    "model_2.compile(optimizer='adam', loss='categorical_crossentropy', metrics=['accuracy'])\n",
    "\n",
    "# Imprimir un resumen del modelo\n",
    "model_2.summary()\n"
   ]
  },
  {
   "cell_type": "markdown",
   "metadata": {},
   "source": [
    "**Análisis:**\n",
    "\n",
    "- Total de Parámetros: Este modelo tiene un total de 5,241,539 parámetros entrenables, menor que el modelo anterior a pesar de ser más profundo, debido a un mejor balance en el número de unidades de las capas densas. Esto sugiere que el modelo puede ser más eficiente y menos propenso a sobreajustar en comparación con el primer modelo.\n",
    "\n",
    "- Uso de Batch Normalization: Las capas de Batch Normalization introducidas después de cada capa convolucional estabilizan y aceleran el proceso de entrenamiento, ayudando al modelo a aprender patrones más complejos sin caer en problemas de inestabilidad.\n",
    "\n",
    "- Uso de Memoria: Este modelo ocupa aproximadamente 19.99 MB de memoria para almacenar parámetros, lo cual es manejable y adecuado para tareas de clasificación con imágenes en resoluciones reducidas como 128×128."
   ]
  },
  {
   "cell_type": "markdown",
   "metadata": {},
   "source": [
    "Este segundo modelo ofrece una estructura más profunda y regularizada que debería mejorar la capacidad de generalización y el rendimiento en comparación con el primer modelo, a la vez que mantiene un uso de memoria eficiente y reduce la posibilidad de sobreajuste gracias a Batch Normalization y Dropout."
   ]
  },
  {
   "cell_type": "markdown",
   "metadata": {},
   "source": [
    "### 2.3 Entrenamiento de los Modelos"
   ]
  },
  {
   "cell_type": "markdown",
   "metadata": {},
   "source": [
    "**Entrenamiento Modelo 1 (modelo básico de CNN)**"
   ]
  },
  {
   "cell_type": "markdown",
   "metadata": {},
   "source": [
    "Se entrena el primer modelo (modelo básico de CNN) utilizando los datos de entrenamiento y evaluando su rendimiento en los datos de prueba:\n",
    "\n",
    "- model_1.fit(...): Esta función inicia el proceso de entrenamiento del modelo sobre el conjunto de datos proporcionado.\n",
    "\n",
    "    - train_generator: Es el generador de datos de entrenamiento que proporciona lotes de imágenes procesadas (incluyendo aumentos) al modelo durante cada época de entrenamiento.\n",
    "\n",
    "    - epochs=20: Indica que el modelo se entrenará durante 20 épocas, lo cual significa que el modelo verá todo el conjunto de entrenamiento 20 veces. Este parámetro afecta el tiempo de entrenamiento y la capacidad del modelo para aprender patrones en los datos.\n",
    "    \n",
    "    - validation_data=test_generator: Usa el conjunto de prueba (test_generator) para evaluar el modelo al final de cada época. Esto permite monitorear el rendimiento del modelo en datos no vistos durante el entrenamiento, ayudando a detectar problemas como el sobreajuste."
   ]
  },
  {
   "cell_type": "code",
   "execution_count": 11,
   "metadata": {},
   "outputs": [
    {
     "name": "stdout",
     "output_type": "stream",
     "text": [
      "Epoch 1/20\n",
      "\u001b[1m83/83\u001b[0m \u001b[32m━━━━━━━━━━━━━━━━━━━━\u001b[0m\u001b[37m\u001b[0m \u001b[1m39s\u001b[0m 477ms/step - accuracy: 0.7029 - loss: 0.7003 - val_accuracy: 0.7304 - val_loss: 0.6359\n",
      "Epoch 2/20\n",
      "\u001b[1m83/83\u001b[0m \u001b[32m━━━━━━━━━━━━━━━━━━━━\u001b[0m\u001b[37m\u001b[0m \u001b[1m49s\u001b[0m 588ms/step - accuracy: 0.7152 - loss: 0.6690 - val_accuracy: 0.7557 - val_loss: 0.5431\n",
      "Epoch 3/20\n",
      "\u001b[1m83/83\u001b[0m \u001b[32m━━━━━━━━━━━━━━━━━━━━\u001b[0m\u001b[37m\u001b[0m \u001b[1m24s\u001b[0m 289ms/step - accuracy: 0.7549 - loss: 0.5847 - val_accuracy: 0.7481 - val_loss: 0.5720\n",
      "Epoch 4/20\n",
      "\u001b[1m83/83\u001b[0m \u001b[32m━━━━━━━━━━━━━━━━━━━━\u001b[0m\u001b[37m\u001b[0m \u001b[1m27s\u001b[0m 325ms/step - accuracy: 0.7570 - loss: 0.5692 - val_accuracy: 0.7638 - val_loss: 0.5057\n",
      "Epoch 5/20\n",
      "\u001b[1m83/83\u001b[0m \u001b[32m━━━━━━━━━━━━━━━━━━━━\u001b[0m\u001b[37m\u001b[0m \u001b[1m25s\u001b[0m 305ms/step - accuracy: 0.7840 - loss: 0.5143 - val_accuracy: 0.7839 - val_loss: 0.4748\n",
      "Epoch 6/20\n",
      "\u001b[1m83/83\u001b[0m \u001b[32m━━━━━━━━━━━━━━━━━━━━\u001b[0m\u001b[37m\u001b[0m \u001b[1m24s\u001b[0m 292ms/step - accuracy: 0.7851 - loss: 0.4942 - val_accuracy: 0.7553 - val_loss: 0.5235\n",
      "Epoch 7/20\n",
      "\u001b[1m83/83\u001b[0m \u001b[32m━━━━━━━━━━━━━━━━━━━━\u001b[0m\u001b[37m\u001b[0m \u001b[1m24s\u001b[0m 291ms/step - accuracy: 0.7726 - loss: 0.5351 - val_accuracy: 0.7730 - val_loss: 0.4926\n",
      "Epoch 8/20\n",
      "\u001b[1m83/83\u001b[0m \u001b[32m━━━━━━━━━━━━━━━━━━━━\u001b[0m\u001b[37m\u001b[0m \u001b[1m22s\u001b[0m 269ms/step - accuracy: 0.8132 - loss: 0.4352 - val_accuracy: 0.8024 - val_loss: 0.4334\n",
      "Epoch 9/20\n",
      "\u001b[1m83/83\u001b[0m \u001b[32m━━━━━━━━━━━━━━━━━━━━\u001b[0m\u001b[37m\u001b[0m \u001b[1m23s\u001b[0m 280ms/step - accuracy: 0.8001 - loss: 0.4658 - val_accuracy: 0.8000 - val_loss: 0.4250\n",
      "Epoch 10/20\n",
      "\u001b[1m83/83\u001b[0m \u001b[32m━━━━━━━━━━━━━━━━━━━━\u001b[0m\u001b[37m\u001b[0m \u001b[1m22s\u001b[0m 263ms/step - accuracy: 0.8432 - loss: 0.3852 - val_accuracy: 0.7791 - val_loss: 0.5999\n",
      "Epoch 11/20\n",
      "\u001b[1m83/83\u001b[0m \u001b[32m━━━━━━━━━━━━━━━━━━━━\u001b[0m\u001b[37m\u001b[0m \u001b[1m20s\u001b[0m 245ms/step - accuracy: 0.8344 - loss: 0.4175 - val_accuracy: 0.8314 - val_loss: 0.3765\n",
      "Epoch 12/20\n",
      "\u001b[1m83/83\u001b[0m \u001b[32m━━━━━━━━━━━━━━━━━━━━\u001b[0m\u001b[37m\u001b[0m \u001b[1m20s\u001b[0m 246ms/step - accuracy: 0.8512 - loss: 0.3637 - val_accuracy: 0.8165 - val_loss: 0.3976\n",
      "Epoch 13/20\n",
      "\u001b[1m83/83\u001b[0m \u001b[32m━━━━━━━━━━━━━━━━━━━━\u001b[0m\u001b[37m\u001b[0m \u001b[1m21s\u001b[0m 258ms/step - accuracy: 0.8471 - loss: 0.3666 - val_accuracy: 0.8217 - val_loss: 0.3955\n",
      "Epoch 14/20\n",
      "\u001b[1m83/83\u001b[0m \u001b[32m━━━━━━━━━━━━━━━━━━━━\u001b[0m\u001b[37m\u001b[0m \u001b[1m24s\u001b[0m 282ms/step - accuracy: 0.8707 - loss: 0.3166 - val_accuracy: 0.8370 - val_loss: 0.3889\n",
      "Epoch 15/20\n",
      "\u001b[1m83/83\u001b[0m \u001b[32m━━━━━━━━━━━━━━━━━━━━\u001b[0m\u001b[37m\u001b[0m \u001b[1m23s\u001b[0m 279ms/step - accuracy: 0.8535 - loss: 0.3558 - val_accuracy: 0.8322 - val_loss: 0.4069\n",
      "Epoch 16/20\n",
      "\u001b[1m83/83\u001b[0m \u001b[32m━━━━━━━━━━━━━━━━━━━━\u001b[0m\u001b[37m\u001b[0m \u001b[1m22s\u001b[0m 268ms/step - accuracy: 0.8737 - loss: 0.3138 - val_accuracy: 0.7952 - val_loss: 0.5098\n",
      "Epoch 17/20\n",
      "\u001b[1m83/83\u001b[0m \u001b[32m━━━━━━━━━━━━━━━━━━━━\u001b[0m\u001b[37m\u001b[0m \u001b[1m23s\u001b[0m 277ms/step - accuracy: 0.8684 - loss: 0.3538 - val_accuracy: 0.8342 - val_loss: 0.4093\n",
      "Epoch 18/20\n",
      "\u001b[1m83/83\u001b[0m \u001b[32m━━━━━━━━━━━━━━━━━━━━\u001b[0m\u001b[37m\u001b[0m \u001b[1m22s\u001b[0m 266ms/step - accuracy: 0.8679 - loss: 0.3272 - val_accuracy: 0.8451 - val_loss: 0.4133\n",
      "Epoch 19/20\n",
      "\u001b[1m83/83\u001b[0m \u001b[32m━━━━━━━━━━━━━━━━━━━━\u001b[0m\u001b[37m\u001b[0m \u001b[1m24s\u001b[0m 287ms/step - accuracy: 0.8791 - loss: 0.2992 - val_accuracy: 0.8551 - val_loss: 0.3486\n",
      "Epoch 20/20\n",
      "\u001b[1m83/83\u001b[0m \u001b[32m━━━━━━━━━━━━━━━━━━━━\u001b[0m\u001b[37m\u001b[0m \u001b[1m24s\u001b[0m 288ms/step - accuracy: 0.8926 - loss: 0.2580 - val_accuracy: 0.8527 - val_loss: 0.3859\n"
     ]
    }
   ],
   "source": [
    "# Entrenar el Modelo 1\n",
    "history_1 = model_1.fit(\n",
    "    train_generator,\n",
    "    epochs=20,\n",
    "    validation_data=test_generator\n",
    ")"
   ]
  },
  {
   "cell_type": "markdown",
   "metadata": {},
   "source": [
    "**Entrenamiento Modelo 2**"
   ]
  },
  {
   "cell_type": "markdown",
   "metadata": {},
   "source": [
    "Se entrena el segundo modelo (CNN más profunda con Batch Normalization) utilizando los mismos parámetros de configuración que el primer modelo."
   ]
  },
  {
   "cell_type": "code",
   "execution_count": 12,
   "metadata": {},
   "outputs": [
    {
     "name": "stdout",
     "output_type": "stream",
     "text": [
      "Epoch 1/20\n",
      "\u001b[1m83/83\u001b[0m \u001b[32m━━━━━━━━━━━━━━━━━━━━\u001b[0m\u001b[37m\u001b[0m \u001b[1m36s\u001b[0m 402ms/step - accuracy: 0.5526 - loss: 3.8303 - val_accuracy: 0.2982 - val_loss: 1.7422\n",
      "Epoch 2/20\n",
      "\u001b[1m83/83\u001b[0m \u001b[32m━━━━━━━━━━━━━━━━━━━━\u001b[0m\u001b[37m\u001b[0m \u001b[1m35s\u001b[0m 414ms/step - accuracy: 0.6063 - loss: 1.7105 - val_accuracy: 0.3171 - val_loss: 1.2201\n",
      "Epoch 3/20\n",
      "\u001b[1m83/83\u001b[0m \u001b[32m━━━━━━━━━━━━━━━━━━━━\u001b[0m\u001b[37m\u001b[0m \u001b[1m33s\u001b[0m 394ms/step - accuracy: 0.6767 - loss: 1.1323 - val_accuracy: 0.3155 - val_loss: 1.8274\n",
      "Epoch 4/20\n",
      "\u001b[1m83/83\u001b[0m \u001b[32m━━━━━━━━━━━━━━━━━━━━\u001b[0m\u001b[37m\u001b[0m \u001b[1m33s\u001b[0m 404ms/step - accuracy: 0.7188 - loss: 0.8018 - val_accuracy: 0.3654 - val_loss: 1.2552\n",
      "Epoch 5/20\n",
      "\u001b[1m83/83\u001b[0m \u001b[32m━━━━━━━━━━━━━━━━━━━━\u001b[0m\u001b[37m\u001b[0m \u001b[1m36s\u001b[0m 435ms/step - accuracy: 0.7527 - loss: 0.6865 - val_accuracy: 0.7505 - val_loss: 0.6945\n",
      "Epoch 6/20\n",
      "\u001b[1m83/83\u001b[0m \u001b[32m━━━━━━━━━━━━━━━━━━━━\u001b[0m\u001b[37m\u001b[0m \u001b[1m35s\u001b[0m 424ms/step - accuracy: 0.7675 - loss: 0.5765 - val_accuracy: 0.7187 - val_loss: 0.6665\n",
      "Epoch 7/20\n",
      "\u001b[1m83/83\u001b[0m \u001b[32m━━━━━━━━━━━━━━━━━━━━\u001b[0m\u001b[37m\u001b[0m \u001b[1m34s\u001b[0m 410ms/step - accuracy: 0.7775 - loss: 0.5262 - val_accuracy: 0.8064 - val_loss: 0.4828\n",
      "Epoch 8/20\n",
      "\u001b[1m83/83\u001b[0m \u001b[32m━━━━━━━━━━━━━━━━━━━━\u001b[0m\u001b[37m\u001b[0m \u001b[1m35s\u001b[0m 417ms/step - accuracy: 0.7973 - loss: 0.5019 - val_accuracy: 0.7429 - val_loss: 0.6078\n",
      "Epoch 9/20\n",
      "\u001b[1m83/83\u001b[0m \u001b[32m━━━━━━━━━━━━━━━━━━━━\u001b[0m\u001b[37m\u001b[0m \u001b[1m35s\u001b[0m 424ms/step - accuracy: 0.8292 - loss: 0.4216 - val_accuracy: 0.7485 - val_loss: 0.5474\n",
      "Epoch 10/20\n",
      "\u001b[1m83/83\u001b[0m \u001b[32m━━━━━━━━━━━━━━━━━━━━\u001b[0m\u001b[37m\u001b[0m \u001b[1m34s\u001b[0m 412ms/step - accuracy: 0.8193 - loss: 0.4444 - val_accuracy: 0.8185 - val_loss: 0.4460\n",
      "Epoch 11/20\n",
      "\u001b[1m83/83\u001b[0m \u001b[32m━━━━━━━━━━━━━━━━━━━━\u001b[0m\u001b[37m\u001b[0m \u001b[1m36s\u001b[0m 429ms/step - accuracy: 0.8418 - loss: 0.4119 - val_accuracy: 0.8495 - val_loss: 0.3516\n",
      "Epoch 12/20\n",
      "\u001b[1m83/83\u001b[0m \u001b[32m━━━━━━━━━━━━━━━━━━━━\u001b[0m\u001b[37m\u001b[0m \u001b[1m38s\u001b[0m 463ms/step - accuracy: 0.8624 - loss: 0.3579 - val_accuracy: 0.7622 - val_loss: 0.5404\n",
      "Epoch 13/20\n",
      "\u001b[1m83/83\u001b[0m \u001b[32m━━━━━━━━━━━━━━━━━━━━\u001b[0m\u001b[37m\u001b[0m \u001b[1m35s\u001b[0m 426ms/step - accuracy: 0.8533 - loss: 0.3689 - val_accuracy: 0.8455 - val_loss: 0.4550\n",
      "Epoch 14/20\n",
      "\u001b[1m83/83\u001b[0m \u001b[32m━━━━━━━━━━━━━━━━━━━━\u001b[0m\u001b[37m\u001b[0m \u001b[1m33s\u001b[0m 390ms/step - accuracy: 0.8487 - loss: 0.3675 - val_accuracy: 0.8290 - val_loss: 0.3977\n",
      "Epoch 15/20\n",
      "\u001b[1m83/83\u001b[0m \u001b[32m━━━━━━━━━━━━━━━━━━━━\u001b[0m\u001b[37m\u001b[0m \u001b[1m33s\u001b[0m 404ms/step - accuracy: 0.8671 - loss: 0.3578 - val_accuracy: 0.7445 - val_loss: 0.7302\n",
      "Epoch 16/20\n",
      "\u001b[1m83/83\u001b[0m \u001b[32m━━━━━━━━━━━━━━━━━━━━\u001b[0m\u001b[37m\u001b[0m \u001b[1m33s\u001b[0m 400ms/step - accuracy: 0.8570 - loss: 0.3677 - val_accuracy: 0.8310 - val_loss: 0.3962\n",
      "Epoch 17/20\n",
      "\u001b[1m83/83\u001b[0m \u001b[32m━━━━━━━━━━━━━━━━━━━━\u001b[0m\u001b[37m\u001b[0m \u001b[1m34s\u001b[0m 403ms/step - accuracy: 0.8868 - loss: 0.3094 - val_accuracy: 0.7533 - val_loss: 0.6416\n",
      "Epoch 18/20\n",
      "\u001b[1m83/83\u001b[0m \u001b[32m━━━━━━━━━━━━━━━━━━━━\u001b[0m\u001b[37m\u001b[0m \u001b[1m34s\u001b[0m 406ms/step - accuracy: 0.8765 - loss: 0.2995 - val_accuracy: 0.7602 - val_loss: 0.7067\n",
      "Epoch 19/20\n",
      "\u001b[1m83/83\u001b[0m \u001b[32m━━━━━━━━━━━━━━━━━━━━\u001b[0m\u001b[37m\u001b[0m \u001b[1m33s\u001b[0m 397ms/step - accuracy: 0.8836 - loss: 0.3045 - val_accuracy: 0.8539 - val_loss: 0.4246\n",
      "Epoch 20/20\n",
      "\u001b[1m83/83\u001b[0m \u001b[32m━━━━━━━━━━━━━━━━━━━━\u001b[0m\u001b[37m\u001b[0m \u001b[1m33s\u001b[0m 390ms/step - accuracy: 0.8912 - loss: 0.2820 - val_accuracy: 0.8266 - val_loss: 0.4606\n"
     ]
    }
   ],
   "source": [
    "# Entrenar el Modelo 2\n",
    "history_2 = model_2.fit(\n",
    "    train_generator,\n",
    "    epochs=20,\n",
    "    validation_data=test_generator\n",
    ")"
   ]
  },
  {
   "cell_type": "markdown",
   "metadata": {},
   "source": [
    "### 2.4 Evaluación y Selección del Mejor Modelo"
   ]
  },
  {
   "cell_type": "markdown",
   "metadata": {},
   "source": [
    "Para comparar ambos modelos, evaluaremos su desempeño en el conjunto de prueba (test_generator). Luego, elegiremos el modelo con mejor precisión global en este conjunto."
   ]
  },
  {
   "cell_type": "code",
   "execution_count": 13,
   "metadata": {},
   "outputs": [
    {
     "name": "stdout",
     "output_type": "stream",
     "text": [
      "\u001b[1m78/78\u001b[0m \u001b[32m━━━━━━━━━━━━━━━━━━━━\u001b[0m\u001b[37m\u001b[0m \u001b[1m4s\u001b[0m 48ms/step - accuracy: 0.8478 - loss: 0.4066\n",
      "Modelo 1 - Precisión en el conjunto de prueba: 0.85\n",
      "\u001b[1m78/78\u001b[0m \u001b[32m━━━━━━━━━━━━━━━━━━━━\u001b[0m\u001b[37m\u001b[0m \u001b[1m6s\u001b[0m 76ms/step - accuracy: 0.8215 - loss: 0.4677\n",
      "Modelo 2 - Precisión en el conjunto de prueba: 0.83\n",
      "El mejor modelo es Modelo 1 con una precisión de 0.85\n"
     ]
    }
   ],
   "source": [
    "# Evaluar el Modelo 1 en el conjunto de prueba\n",
    "test_loss_1, test_acc_1 = model_1.evaluate(test_generator)\n",
    "print(f\"Modelo 1 - Precisión en el conjunto de prueba: {test_acc_1:.2f}\")\n",
    "\n",
    "# Evaluar el Modelo 2 en el conjunto de prueba\n",
    "test_loss_2, test_acc_2 = model_2.evaluate(test_generator)\n",
    "print(f\"Modelo 2 - Precisión en el conjunto de prueba: {test_acc_2:.2f}\")\n",
    "\n",
    "# Seleccionar el mejor modelo según la precisión\n",
    "best_model = model_1 if test_acc_1 > test_acc_2 else model_2\n",
    "print(f\"El mejor modelo es {'Modelo 1' if best_model == model_1 else 'Modelo 2'} con una precisión de {max(test_acc_1, test_acc_2):.2f}\")"
   ]
  },
  {
   "cell_type": "markdown",
   "metadata": {},
   "source": [
    "1. Evaluación del Modelo 1:\n",
    "\n",
    "    - La función model_1.evaluate(test_generator) calcula la pérdida (test_loss_1) y la precisión (test_acc_1) del Modelo 1 en el conjunto de prueba. **La precisión del Modelo 1 es de 0.85 (85%).**\n",
    "\n",
    "2. Evaluación del Modelo 2:\n",
    "\n",
    "    - La función model_2.evaluate(test_generator) calcula la pérdida (test_loss_2) y la precisión (test_acc_2) del Modelo 2 en el conjunto de prueba. **La precisión del Modelo 2 es de 0.83 (83%).**\n",
    "\n",
    "3. Selección del Mejor Modelo:\n",
    "\n",
    "    - Se compara la precisión de ambos modelos y se selecciona el que obtuvo la mayor precisión en el conjunto de prueba. **En este caso, el Modelo 1 tiene una precisión superior (0.85 frente a 0.83) y es seleccionado como el mejor modelo.**"
   ]
  },
  {
   "cell_type": "markdown",
   "metadata": {},
   "source": [
    "### 2.5 Análisis de Resultados en el Conjunto de Validación"
   ]
  },
  {
   "cell_type": "markdown",
   "metadata": {},
   "source": [
    "Utilizamos el modelo seleccionado para realizar un análisis de resultados en el conjunto de validación, calculando métricas adicionales como el reporte de clasificación y la matriz de confusión."
   ]
  },
  {
   "cell_type": "code",
   "execution_count": 16,
   "metadata": {},
   "outputs": [
    {
     "name": "stdout",
     "output_type": "stream",
     "text": [
      "\u001b[1m10/10\u001b[0m \u001b[32m━━━━━━━━━━━━━━━━━━━━\u001b[0m\u001b[37m\u001b[0m \u001b[1m1s\u001b[0m 59ms/step - accuracy: 0.7339 - loss: 0.9809\n",
      "Precisión en el conjunto de validación: 0.71\n",
      "\u001b[1m10/10\u001b[0m \u001b[32m━━━━━━━━━━━━━━━━━━━━\u001b[0m\u001b[37m\u001b[0m \u001b[1m0s\u001b[0m 38ms/step\n",
      "Reporte de Clasificación:\n",
      "              precision    recall  f1-score   support\n",
      "\n",
      "       Fruit       0.39      0.44      0.41       111\n",
      "    Packages       0.30      0.39      0.34       100\n",
      "  Vegetables       0.26      0.12      0.16        85\n",
      "\n",
      "    accuracy                           0.33       296\n",
      "   macro avg       0.31      0.32      0.30       296\n",
      "weighted avg       0.32      0.33      0.32       296\n",
      "\n"
     ]
    },
    {
     "data": {
      "image/png": "[encoded data removed]",
      "text/plain": [
       "<Figure size 1000x800 with 2 Axes>"
      ]
     },
     "metadata": {},
     "output_type": "display_data"
    }
   ],
   "source": [
    "# Evaluar el modelo seleccionado en el conjunto de validación\n",
    "val_loss, val_acc = best_model.evaluate(val_generator)\n",
    "print(f\"Precisión en el conjunto de validación: {val_acc:.2f}\")\n",
    "\n",
    "# Obtener predicciones del modelo en el conjunto de validación\n",
    "val_generator.reset()  # Reiniciar el generador para predicciones\n",
    "predictions = np.argmax(best_model.predict(val_generator), axis=1)\n",
    "true_labels = val_generator.classes\n",
    "\n",
    "# Calcular reporte de clasificación\n",
    "class_labels = list(val_generator.class_indices.keys())\n",
    "print(\"Reporte de Clasificación:\")\n",
    "print(classification_report(true_labels, predictions, target_names=class_labels))\n",
    "\n",
    "# Generar matriz de confusión\n",
    "conf_matrix = confusion_matrix(true_labels, predictions)\n",
    "plt.figure(figsize=(10, 8))\n",
    "sns.heatmap(conf_matrix, annot=True, fmt='d', cmap='Blues', xticklabels=class_labels, yticklabels=class_labels)\n",
    "plt.xlabel(\"Predicciones\")\n",
    "plt.ylabel(\"Valores Reales\")\n",
    "plt.title(\"Matriz de Confusión en Conjunto de Validación\")\n",
    "plt.show()"
   ]
  },
  {
   "cell_type": "markdown",
   "metadata": {},
   "source": [
    "Después de seleccionar el mejor modelo (Modelo 1) basado en su desempeño en el conjunto de prueba, se realiza una evaluación final en el conjunto de validación para medir su capacidad de generalización en datos no vistos.\n",
    "\n",
    "1. Desempeño General en el Conjunto de Validación\n",
    "\n",
    "    - Precisión General: La precisión obtenida en el conjunto de validación es del 71%, lo que indica que el modelo logra identificar correctamente el 71% de los casos en este conjunto de datos.\n",
    "    - Pérdida: La pérdida en el conjunto de validación es de aproximadamente 0.95, lo que sugiere que el modelo tiene cierto grado de error en sus predicciones, especialmente en algunas clases."
   ]
  },
  {
   "cell_type": "markdown",
   "metadata": {},
   "source": [
    "2. Reporte de Clasificación\n",
    "\n",
    "    - Fruit:\n",
    "\n",
    "        - Precisión: 0.37, lo que significa que, cuando el modelo predice \"Fruit\", acierta el 37% de las veces.\n",
    "        - Recall: 0.41, indicando que el modelo identifica correctamente el 41% de todas las imágenes reales de \"Fruit\".\n",
    "        - F1-score: 0.39, que es una métrica que combina precisión y recall, sugiriendo un desempeño moderado en esta clase.\n",
    "\n",
    "    - Packages:\n",
    "\n",
    "        - Precisión: 0.34, lo que indica que el modelo tiene dificultades para clasificar correctamente esta clase.\n",
    "        - Recall: 0.44, lo cual es algo mejor que en precisión, ya que el modelo identifica el 44% de los casos reales de \"Packages\".\n",
    "        - F1-score: 0.38, indicando un desempeño moderadamente bajo.\n",
    "\n",
    "    - Vegetables:\n",
    "\n",
    "        - Precisión: 0.28, el modelo presenta un desempeño bajo en esta clase, confundiendo \"Vegetables\" con otras clases.\n",
    "        - Recall: 0.13, indicando que el modelo solo identifica correctamente el 13% de los casos reales de \"Vegetables\".\n",
    "        - F1-score: 0.18, lo cual refleja un desempeño deficiente en esta clase.\n",
    "\n",
    "Estos resultados sugieren que el modelo tiene un mejor desempeño en las clases \"Fruit\" y \"Packages\" en comparación con \"Vegetables\", donde el modelo tiende a cometer más errores."
   ]
  },
  {
   "cell_type": "markdown",
   "metadata": {},
   "source": [
    "3. Matriz de Confusión: La matriz de confusión proporciona una visión detallada de las predicciones correctas e incorrectas del modelo en cada clase:\n",
    "\n",
    "    - Fruit: 46 predicciones correctas, pero 52 casos fueron clasificados incorrectamente como \"Packages\" y 13 como \"Vegetables\".\n",
    "    - Packages: 44 predicciones correctas, pero una gran cantidad de confusiones, con 41 clasificaciones erróneas como \"Fruit\" y 15 como \"Vegetables\".\n",
    "    - Vegetables: Solo 11 predicciones correctas, con 39 casos clasificados erróneamente como \"Fruit\" y 35 como \"Packages\"\n",
    "\n",
    "La matriz de confusión muestra que el modelo tiene una tendencia a confundir \"Fruit\" y \"Packages\" entre sí, y tiene dificultades notables en clasificar correctamente \"Vegetables\"."
   ]
  },
  {
   "cell_type": "markdown",
   "metadata": {},
   "source": [
    "### 2.6 Implementation de mejoras Modelo"
   ]
  },
  {
   "cell_type": "markdown",
   "metadata": {},
   "source": [
    "Estos son los cambios que se van a implementar en el Modelo 3 teniendo en cuenta los resultados obtenidos: \n",
    "\n",
    "1. **Batch Normalization:**\n",
    "\n",
    "    - Cambio: Se añadió BatchNormalization() después de cada capa convolucional.\n",
    "    - Razón: Batch Normalization ayuda a estabilizar y acelerar el entrenamiento al normalizar las activaciones de cada capa, lo cual permite al modelo aprender patrones de manera más efectiva. Esto mejora la precisión y ayuda a evitar problemas de inestabilidad, especialmente en redes profundas.\n",
    "\n",
    "2. **Aumento de Dropout:**\n",
    "\n",
    "    - Cambio: Se agregaron capas Dropout con una tasa de 0.3 después de cada capa convolucional y una tasa de 0.5 después de la capa densa de 512 unidades.\n",
    "    - Razón: Dropout es una técnica de regularización que reduce el riesgo de sobreajuste desactivando aleatoriamente neuronas durante el entrenamiento. Aumentar el uso de Dropout ayuda al modelo a generalizar mejor en datos no vistos, reduciendo el riesgo de que aprenda solo patrones específicos del conjunto de entrenamiento.\n",
    "\n",
    "3. **Learning Rate Bajo:**\n",
    "\n",
    "    - Cambio: Se redujo el learning rate del optimizador Adam a 0.0001.\n",
    "    - Razón: Un learning rate más bajo permite que el modelo haga ajustes más pequeños en cada paso de entrenamiento, lo cual es beneficioso para lograr una convergencia más estable y precisa, especialmente cuando el modelo es complejo o se han agregado técnicas de regularización.\n",
    "\n",
    "4. **Early Stopping:**\n",
    "\n",
    "    - Cambio: Se añadió EarlyStopping con patience=5 para detener el entrenamiento si no hay mejoras en el conjunto de validación durante 5 épocas consecutivas.\n",
    "    - Razón: Early Stopping ayuda a evitar el sobreajuste al detener el entrenamiento en el punto óptimo antes de que el modelo comience a ajustarse en exceso a los datos de entrenamiento. Al usar restore_best_weights=True, el modelo conserva los mejores pesos encontrados.\n",
    "\n",
    "5. **Reducción de Learning Rate en Planos:**\n",
    "\n",
    "    - Cambio: Se añadió ReduceLROnPlateau, que reduce el learning rate a la mitad si el modelo deja de mejorar en el conjunto de validación durante 3 épocas consecutivas.\n",
    "    - Razón: Esta técnica ajusta automáticamente el learning rate cuando el modelo se estabiliza, permitiendo explorar mínimos más finos y mejorar la precisión sin necesidad de reiniciar el entrenamiento."
   ]
  },
  {
   "cell_type": "code",
   "execution_count": 24,
   "metadata": {},
   "outputs": [
    {
     "name": "stdout",
     "output_type": "stream",
     "text": [
      "Collecting keras-tuner\n",
      "  Downloading keras_tuner-1.4.7-py3-none-any.whl.metadata (5.4 kB)\n",
      "Requirement already satisfied: keras in c:\\users\\ramirez nestor\\appdata\\local\\programs\\python\\python312\\lib\\site-packages (from keras-tuner) (3.6.0)\n",
      "Requirement already satisfied: packaging in c:\\users\\ramirez nestor\\appdata\\roaming\\python\\python312\\site-packages (from keras-tuner) (24.1)\n",
      "Requirement already satisfied: requests in c:\\users\\ramirez nestor\\appdata\\local\\programs\\python\\python312\\lib\\site-packages (from keras-tuner) (2.32.3)\n",
      "Collecting kt-legacy (from keras-tuner)\n",
      "  Downloading kt_legacy-1.0.5-py3-none-any.whl.metadata (221 bytes)\n",
      "Requirement already satisfied: absl-py in c:\\users\\ramirez nestor\\appdata\\local\\programs\\python\\python312\\lib\\site-packages (from keras->keras-tuner) (2.1.0)\n",
      "Requirement already satisfied: numpy in c:\\users\\ramirez nestor\\appdata\\local\\programs\\python\\python312\\lib\\site-packages (from keras->keras-tuner) (2.0.2)\n",
      "Requirement already satisfied: rich in c:\\users\\ramirez nestor\\appdata\\local\\programs\\python\\python312\\lib\\site-packages (from keras->keras-tuner) (13.9.4)\n",
      "Requirement already satisfied: namex in c:\\users\\ramirez nestor\\appdata\\local\\programs\\python\\python312\\lib\\site-packages (from keras->keras-tuner) (0.0.8)\n",
      "Requirement already satisfied: h5py in c:\\users\\ramirez nestor\\appdata\\local\\programs\\python\\python312\\lib\\site-packages (from keras->keras-tuner) (3.12.1)\n",
      "Requirement already satisfied: optree in c:\\users\\ramirez nestor\\appdata\\local\\programs\\python\\python312\\lib\\site-packages (from keras->keras-tuner) (0.13.0)\n",
      "Requirement already satisfied: ml-dtypes in c:\\users\\ramirez nestor\\appdata\\local\\programs\\python\\python312\\lib\\site-packages (from keras->keras-tuner) (0.4.1)\n",
      "Requirement already satisfied: charset-normalizer<4,>=2 in c:\\users\\ramirez nestor\\appdata\\local\\programs\\python\\python312\\lib\\site-packages (from requests->keras-tuner) (3.4.0)\n",
      "Requirement already satisfied: idna<4,>=2.5 in c:\\users\\ramirez nestor\\appdata\\local\\programs\\python\\python312\\lib\\site-packages (from requests->keras-tuner) (3.10)\n",
      "Requirement already satisfied: urllib3<3,>=1.21.1 in c:\\users\\ramirez nestor\\appdata\\local\\programs\\python\\python312\\lib\\site-packages (from requests->keras-tuner) (2.2.3)\n",
      "Requirement already satisfied: certifi>=2017.4.17 in c:\\users\\ramirez nestor\\appdata\\local\\programs\\python\\python312\\lib\\site-packages (from requests->keras-tuner) (2024.8.30)\n",
      "Requirement already satisfied: typing-extensions>=4.5.0 in c:\\users\\ramirez nestor\\appdata\\local\\programs\\python\\python312\\lib\\site-packages (from optree->keras->keras-tuner) (4.12.2)\n",
      "Requirement already satisfied: markdown-it-py>=2.2.0 in c:\\users\\ramirez nestor\\appdata\\local\\programs\\python\\python312\\lib\\site-packages (from rich->keras->keras-tuner) (3.0.0)\n",
      "Requirement already satisfied: pygments<3.0.0,>=2.13.0 in c:\\users\\ramirez nestor\\appdata\\roaming\\python\\python312\\site-packages (from rich->keras->keras-tuner) (2.18.0)\n",
      "Requirement already satisfied: mdurl~=0.1 in c:\\users\\ramirez nestor\\appdata\\local\\programs\\python\\python312\\lib\\site-packages (from markdown-it-py>=2.2.0->rich->keras->keras-tuner) (0.1.2)\n",
      "Downloading keras_tuner-1.4.7-py3-none-any.whl (129 kB)\n",
      "   ---------------------------------------- 0.0/129.1 kB ? eta -:--:--\n",
      "   ---------------------------------------- 129.1/129.1 kB 7.4 MB/s eta 0:00:00\n",
      "Downloading kt_legacy-1.0.5-py3-none-any.whl (9.6 kB)\n",
      "Installing collected packages: kt-legacy, keras-tuner\n",
      "Successfully installed keras-tuner-1.4.7 kt-legacy-1.0.5\n",
      "Note: you may need to restart the kernel to use updated packages.\n"
     ]
    },
    {
     "name": "stderr",
     "output_type": "stream",
     "text": [
      "\n",
      "[notice] A new release of pip is available: 24.0 -> 24.3.1\n",
      "[notice] To update, run: python.exe -m pip install --upgrade pip\n"
     ]
    }
   ],
   "source": [
    "pip install keras-tuner"
   ]
  },
  {
   "cell_type": "code",
   "execution_count": null,
   "metadata": {},
   "outputs": [
    {
     "name": "stdout",
     "output_type": "stream",
     "text": [
      "Trial 10 Complete [00h 09m 55s]\n",
      "val_accuracy: 0.7799295783042908\n",
      "\n",
      "Best val_accuracy So Far: 0.7799295783042908\n",
      "Total elapsed time: 01h 08m 09s\n"
     ]
    },
    {
     "name": "stderr",
     "output_type": "stream",
     "text": [
      "c:\\Users\\ramirez nestor\\AppData\\Local\\Programs\\Python\\Python312\\Lib\\site-packages\\keras\\src\\saving\\saving_lib.py:719: UserWarning: Skipping variable loading for optimizer 'adam', because it has 2 variables whereas the saved optimizer has 42 variables. \n",
      "  saveable.load_own_variables(weights_store.get(inner_path))\n"
     ]
    },
    {
     "name": "stdout",
     "output_type": "stream",
     "text": [
      "\u001b[1m7/7\u001b[0m \u001b[32m━━━━━━━━━━━━━━━━━━━━\u001b[0m\u001b[37m\u001b[0m \u001b[1m2s\u001b[0m 202ms/step - accuracy: 0.6708 - loss: 1.4168\n",
      "Mejor precisión en el conjunto de validación: 0.69\n",
      "WARNING:tensorflow:5 out of the last 18 calls to <function TensorFlowTrainer.make_predict_function.<locals>.one_step_on_data_distributed at 0x000001C1C59EEC00> triggered tf.function retracing. Tracing is expensive and the excessive number of tracings could be due to (1) creating @tf.function repeatedly in a loop, (2) passing tensors with different shapes, (3) passing Python objects instead of tensors. For (1), please define your @tf.function outside of the loop. For (2), @tf.function has reduce_retracing=True option that can avoid unnecessary retracing. For (3), please refer to https://www.tensorflow.org/guide/function#controlling_retracing and https://www.tensorflow.org/api_docs/python/tf/function for  more details.\n",
      "\u001b[1m7/7\u001b[0m \u001b[32m━━━━━━━━━━━━━━━━━━━━\u001b[0m\u001b[37m\u001b[0m \u001b[1m1s\u001b[0m 99ms/step\n",
      "Reporte de Clasificación:\n",
      "              precision    recall  f1-score   support\n",
      "\n",
      "       Fruit       0.53      0.52      0.52       111\n",
      "  Vegetables       0.38      0.39      0.39        85\n",
      "\n",
      "    accuracy                           0.46       196\n",
      "   macro avg       0.46      0.46      0.46       196\n",
      "weighted avg       0.47      0.46      0.46       196\n",
      "\n"
     ]
    },
    {
     "data": {
      "image/png": "[encoded data removed]",
      "text/plain": [
       "<Figure size 1000x800 with 2 Axes>"
      ]
     },
     "metadata": {},
     "output_type": "display_data"
    }
   ],
   "source": [
    "# Importar librerías necesarias\n",
    "import os\n",
    "import numpy as np\n",
    "import matplotlib.pyplot as plt\n",
    "import seaborn as sns\n",
    "from tensorflow.keras.preprocessing.image import ImageDataGenerator\n",
    "from tensorflow.keras.models import Sequential\n",
    "from tensorflow.keras.layers import Conv2D, MaxPooling2D, Flatten, Dense, Dropout, BatchNormalization\n",
    "from tensorflow.keras.optimizers import Adam\n",
    "from tensorflow.keras.callbacks import EarlyStopping, ReduceLROnPlateau\n",
    "from sklearn.metrics import classification_report, confusion_matrix\n",
    "import keras_tuner as kt\n",
    "\n",
    "# Configuración de generadores de datos con aumento de datos específico para \"Fruit\" y \"Vegetables\"\n",
    "train_datagen = ImageDataGenerator(\n",
    "    rescale=1./255,\n",
    "    rotation_range=40,\n",
    "    width_shift_range=0.3,\n",
    "    height_shift_range=0.3,\n",
    "    shear_range=0.3,\n",
    "    zoom_range=0.4,\n",
    "    horizontal_flip=True,\n",
    "    brightness_range=[0.7, 1.3],\n",
    "    fill_mode='nearest'\n",
    ")\n",
    "\n",
    "test_val_datagen = ImageDataGenerator(rescale=1./255)\n",
    "\n",
    "# Cargar imágenes de cada conjunto\n",
    "train_generator = train_datagen.flow_from_directory(\n",
    "    'dataset/train',\n",
    "    target_size=(128, 128),\n",
    "    batch_size=32,\n",
    "    class_mode='categorical',\n",
    "    classes=['Fruit', 'Vegetables']\n",
    ")\n",
    "\n",
    "test_generator = test_val_datagen.flow_from_directory(\n",
    "    'dataset/test',\n",
    "    target_size=(128, 128),\n",
    "    batch_size=32,\n",
    "    class_mode='categorical',\n",
    "    classes=['Fruit', 'Vegetables']\n",
    ")\n",
    "\n",
    "val_generator = test_val_datagen.flow_from_directory(\n",
    "    'dataset/val',\n",
    "    target_size=(128, 128),\n",
    "    batch_size=32,\n",
    "    class_mode='categorical',\n",
    "    classes=['Fruit', 'Vegetables']\n",
    ")\n",
    "\n",
    "# Definir la función para construir el modelo con hiperparámetros para la búsqueda\n",
    "def build_model(hp):\n",
    "    model = Sequential()\n",
    "    \n",
    "    # Primera capa convolucional\n",
    "    model.add(Conv2D(\n",
    "        filters=hp.Choice('conv_1_filters', values=[32, 64], default=32),\n",
    "        kernel_size=(3, 3),\n",
    "        activation='relu',\n",
    "        input_shape=(128, 128, 3)\n",
    "    ))\n",
    "    model.add(BatchNormalization())\n",
    "    model.add(MaxPooling2D(2, 2))\n",
    "    model.add(Dropout(hp.Choice('dropout_1', values=[0.3, 0.4])))\n",
    "    \n",
    "    # Segunda capa convolucional\n",
    "    model.add(Conv2D(\n",
    "        filters=hp.Choice('conv_2_filters', values=[64, 128], default=64),\n",
    "        kernel_size=(3, 3),\n",
    "        activation='relu'\n",
    "    ))\n",
    "    model.add(BatchNormalization())\n",
    "    model.add(MaxPooling2D(2, 2))\n",
    "    model.add(Dropout(hp.Choice('dropout_2', values=[0.3, 0.4])))\n",
    "\n",
    "    # Tercera capa convolucional\n",
    "    model.add(Conv2D(\n",
    "        filters=hp.Choice('conv_3_filters', values=[128, 256], default=128),\n",
    "        kernel_size=(3, 3),\n",
    "        activation='relu'\n",
    "    ))\n",
    "    model.add(BatchNormalization())\n",
    "    model.add(MaxPooling2D(2, 2))\n",
    "    model.add(Dropout(hp.Choice('dropout_3', values=[0.4, 0.5])))\n",
    "\n",
    "    # Cuarta capa convolucional\n",
    "    model.add(Conv2D(\n",
    "        filters=hp.Choice('conv_4_filters', values=[256, 512], default=256),\n",
    "        kernel_size=(3, 3),\n",
    "        activation='relu'\n",
    "    ))\n",
    "    model.add(BatchNormalization())\n",
    "    model.add(MaxPooling2D(2, 2))\n",
    "    model.add(Dropout(hp.Choice('dropout_4', values=[0.4, 0.5])))\n",
    "\n",
    "    # Capa densa final\n",
    "    model.add(Flatten())\n",
    "    model.add(Dense(\n",
    "        units=hp.Choice('dense_units', values=[256, 512], default=512),\n",
    "        activation='relu'\n",
    "    ))\n",
    "    model.add(Dropout(hp.Choice('dropout_dense', values=[0.5, 0.6])))\n",
    "    model.add(Dense(2, activation='softmax'))\n",
    "    \n",
    "    # Compilación del modelo\n",
    "    model.compile(\n",
    "        optimizer=Adam(hp.Choice('learning_rate', values=[1e-3, 5e-4, 1e-4])),\n",
    "        loss='categorical_crossentropy',\n",
    "        metrics=['accuracy']\n",
    "    )\n",
    "    \n",
    "    return model\n",
    "\n",
    "# Configuración de Keras Tuner para la búsqueda de hiperparámetros\n",
    "tuner = kt.RandomSearch(\n",
    "    build_model,\n",
    "    objective='val_accuracy',\n",
    "    max_trials=10,\n",
    "    executions_per_trial=1,\n",
    "    directory='hyperparameter_search',\n",
    "    project_name='fruit_vegetable_classification'\n",
    ")\n",
    "\n",
    "# Configurar callbacks para la búsqueda\n",
    "early_stopping = EarlyStopping(monitor='val_loss', patience=5, restore_best_weights=True)\n",
    "reduce_lr = ReduceLROnPlateau(monitor='val_loss', factor=0.5, patience=3, min_lr=1e-6)\n",
    "\n",
    "# Ejecutar la búsqueda de hiperparámetros\n",
    "tuner.search(\n",
    "    train_generator,\n",
    "    epochs=20,\n",
    "    validation_data=test_generator,\n",
    "    callbacks=[early_stopping, reduce_lr]\n",
    ")\n",
    "\n",
    "# Obtener el mejor modelo de la búsqueda de hiperparámetros\n",
    "best_model = tuner.get_best_models(num_models=1)[0]\n",
    "\n",
    "# Evaluar el mejor modelo en el conjunto de validación\n",
    "val_loss, val_acc = best_model.evaluate(val_generator)\n",
    "print(f\"Mejor precisión en el conjunto de validación: {val_acc:.2f}\")\n",
    "\n",
    "# Obtener predicciones y calcular reporte de clasificación y matriz de confusión\n",
    "val_generator.reset()\n",
    "predictions = np.argmax(best_model.predict(val_generator), axis=1)\n",
    "true_labels = val_generator.classes\n",
    "class_labels = list(val_generator.class_indices.keys())\n",
    "\n",
    "print(\"Reporte de Clasificación:\")\n",
    "print(classification_report(true_labels, predictions, target_names=class_labels))\n",
    "\n",
    "# Generar y visualizar la matriz de confusión\n",
    "conf_matrix = confusion_matrix(true_labels, predictions)\n",
    "plt.figure(figsize=(10, 8))\n",
    "sns.heatmap(conf_matrix, annot=True, fmt='d', cmap='Blues', xticklabels=class_labels, yticklabels=class_labels)\n",
    "plt.xlabel(\"Predicciones\")\n",
    "plt.ylabel(\"Valores Reales\")\n",
    "plt.title(\"Matriz de Confusión en Conjunto de Validación\")\n",
    "plt.show()"
   ]
  },
  {
   "cell_type": "markdown",
   "metadata": {},
   "source": [
    "Con la búsqueda de hiperparámetros completada, los resultados muestran mejoras parciales, aunque el modelo sigue teniendo dificultades en distinguir correctamente las clases \"Fruit\" y \"Vegetables\".\n",
    "\n",
    "1. **Precisión General:**\n",
    "    - La mejor precisión en el conjunto de validación alcanzada es del 69%. Esto representa una mejora con respecto a las versiones anteriores del modelo, lo que indica que la búsqueda de hiperparámetros ha ayudado a optimizar algunos aspectos del modelo.\n",
    "    - La pérdida en el conjunto de validación es de 1.4168, lo que sugiere que el modelo aún tiene problemas para ajustarse correctamente, especialmente para las instancias que no se clasifican correctamente.\n",
    "\n",
    "2. **Reporte de Clasificación:**\n",
    "    - Fruit:\n",
    "        - Precisión: 0.53, lo que indica que el modelo es correcto el 53% de las veces cuando predice \"Fruit\".\n",
    "        - Recall: 0.52, lo cual significa que el modelo identifica correctamente el 52% de los casos reales de \"Fruit\".\n",
    "        - F1-score: 0.52, lo que muestra un desempeño moderado en esta clase.\n",
    "\n",
    "    - Vegetables:\n",
    "        - Precisión: 0.38, lo cual indica una precisión menor para esta clase.\n",
    "        - Recall: 0.39, lo cual sugiere que el modelo identifica correctamente el 39% de los casos reales de \"Vegetables\".\n",
    "        - F1-score: 0.39, lo que muestra que el modelo aún enfrenta dificultades en clasificar correctamente esta clase.\n",
    "\n",
    "3. **Matriz de Confusión:**\n",
    "    - La matriz de confusión muestra una gran cantidad de errores de clasificación entre ambas clases:\n",
    "        - 53 instancias de \"Fruit\" fueron clasificadas incorrectamente como \"Vegetables\".\n",
    "        - 52 instancias de \"Vegetables\" fueron clasificadas incorrectamente como \"Fruit\".\n",
    "    - Esto sugiere que, aunque el modelo ha mejorado, sigue sin captar patrones suficientemente distintivos entre \"Fruit\" y \"Vegetables\"."
   ]
  },
  {
   "cell_type": "markdown",
   "metadata": {},
   "source": [
    "### 2.7 Aproximación de la solución en el segundo nivel de categorías"
   ]
  },
  {
   "cell_type": "code",
   "execution_count": 40,
   "metadata": {},
   "outputs": [
    {
     "name": "stdout",
     "output_type": "stream",
     "text": [
      "Trial 10 Complete [00h 03m 42s]\n",
      "val_accuracy: 0.6555164456367493\n",
      "\n",
      "Best val_accuracy So Far: 0.7570422291755676\n",
      "Total elapsed time: 01h 11m 31s\n"
     ]
    },
    {
     "name": "stderr",
     "output_type": "stream",
     "text": [
      "c:\\Users\\ramirez nestor\\AppData\\Local\\Programs\\Python\\Python312\\Lib\\site-packages\\keras\\src\\saving\\saving_lib.py:719: UserWarning: Skipping variable loading for optimizer 'adam', because it has 2 variables whereas the saved optimizer has 42 variables. \n",
      "  saveable.load_own_variables(weights_store.get(inner_path))\n"
     ]
    },
    {
     "name": "stdout",
     "output_type": "stream",
     "text": [
      "\u001b[1m7/7\u001b[0m \u001b[32m━━━━━━━━━━━━━━━━━━━━\u001b[0m\u001b[37m\u001b[0m \u001b[1m4s\u001b[0m 480ms/step - accuracy: 0.6970 - loss: 0.7272\n",
      "Mejor precisión en el conjunto de validación: 0.70\n",
      "WARNING:tensorflow:5 out of the last 15 calls to <function TensorFlowTrainer.make_predict_function.<locals>.one_step_on_data_distributed at 0x000001C20EDE62A0> triggered tf.function retracing. Tracing is expensive and the excessive number of tracings could be due to (1) creating @tf.function repeatedly in a loop, (2) passing tensors with different shapes, (3) passing Python objects instead of tensors. For (1), please define your @tf.function outside of the loop. For (2), @tf.function has reduce_retracing=True option that can avoid unnecessary retracing. For (3), please refer to https://www.tensorflow.org/guide/function#controlling_retracing and https://www.tensorflow.org/api_docs/python/tf/function for  more details.\n",
      "\u001b[1m7/7\u001b[0m \u001b[32m━━━━━━━━━━━━━━━━━━━━\u001b[0m\u001b[37m\u001b[0m \u001b[1m2s\u001b[0m 262ms/step\n",
      "Reporte de Clasificación:\n",
      "              precision    recall  f1-score   support\n",
      "\n",
      "       Fruit       0.54      0.42      0.47       111\n",
      "  Vegetables       0.41      0.53      0.46        85\n",
      "\n",
      "    accuracy                           0.47       196\n",
      "   macro avg       0.48      0.48      0.47       196\n",
      "weighted avg       0.48      0.47      0.47       196\n",
      "\n"
     ]
    },
    {
     "data": {
      "image/png": "[encoded data removed]",
      "text/plain": [
       "<Figure size 1000x800 with 2 Axes>"
      ]
     },
     "metadata": {},
     "output_type": "display_data"
    }
   ],
   "source": [
    "# Importar librerías necesarias\n",
    "import os\n",
    "import numpy as np\n",
    "import matplotlib.pyplot as plt\n",
    "import seaborn as sns\n",
    "from tensorflow.keras.preprocessing.image import ImageDataGenerator\n",
    "from tensorflow.keras.models import Sequential\n",
    "from tensorflow.keras.layers import Conv2D, MaxPooling2D, Flatten, Dense, Dropout, BatchNormalization\n",
    "from tensorflow.keras.optimizers import Adam\n",
    "from tensorflow.keras.callbacks import EarlyStopping, ReduceLROnPlateau\n",
    "from sklearn.metrics import classification_report, confusion_matrix\n",
    "import keras_tuner as kt\n",
    "\n",
    "# Configuración de generadores de datos con aumento de datos específico\n",
    "train_datagen = ImageDataGenerator(\n",
    "    rescale=1./255,\n",
    "    rotation_range=40,\n",
    "    width_shift_range=0.3,\n",
    "    height_shift_range=0.3,\n",
    "    shear_range=0.3,\n",
    "    zoom_range=0.4,\n",
    "    horizontal_flip=True,\n",
    "    brightness_range=[0.7, 1.3],\n",
    "    fill_mode='nearest'\n",
    ")\n",
    "\n",
    "test_val_datagen = ImageDataGenerator(rescale=1./255)\n",
    "\n",
    "# Ruta principal del conjunto de datos\n",
    "base_dir = 'dataset'\n",
    "\n",
    "# Cargar imágenes de cada conjunto usando solo las subcategorías seleccionadas\n",
    "train_generator = train_datagen.flow_from_directory(\n",
    "    os.path.join(base_dir, 'train'),\n",
    "    target_size=(128, 128),\n",
    "    batch_size=32,\n",
    "    class_mode='categorical',\n",
    "    classes=['Fruit', 'Vegetables']  # Usar solo las subcategorías seleccionadas\n",
    ")\n",
    "\n",
    "test_generator = test_val_datagen.flow_from_directory(\n",
    "    os.path.join(base_dir, 'test'),\n",
    "    target_size=(128, 128),\n",
    "    batch_size=32,\n",
    "    class_mode='categorical',\n",
    "    classes=['Fruit', 'Vegetables']\n",
    ")\n",
    "\n",
    "val_generator = test_val_datagen.flow_from_directory(\n",
    "    os.path.join(base_dir, 'val'),\n",
    "    target_size=(128, 128),\n",
    "    batch_size=32,\n",
    "    class_mode='categorical',\n",
    "    classes=['Fruit', 'Vegetables']\n",
    ")\n",
    "\n",
    "# Definir la función para construir el modelo con hiperparámetros para la búsqueda\n",
    "def build_model(hp):\n",
    "    model = Sequential()\n",
    "    \n",
    "    # Primera capa convolucional\n",
    "    model.add(Conv2D(\n",
    "        filters=hp.Choice('conv_1_filters', values=[32, 64], default=32),\n",
    "        kernel_size=(3, 3),\n",
    "        activation='relu',\n",
    "        input_shape=(128, 128, 3)\n",
    "    ))\n",
    "    model.add(BatchNormalization())\n",
    "    model.add(MaxPooling2D(2, 2))\n",
    "    model.add(Dropout(hp.Choice('dropout_1', values=[0.3, 0.4])))\n",
    "    \n",
    "    # Segunda capa convolucional\n",
    "    model.add(Conv2D(\n",
    "        filters=hp.Choice('conv_2_filters', values=[64, 128], default=64),\n",
    "        kernel_size=(3, 3),\n",
    "        activation='relu'\n",
    "    ))\n",
    "    model.add(BatchNormalization())\n",
    "    model.add(MaxPooling2D(2, 2))\n",
    "    model.add(Dropout(hp.Choice('dropout_2', values=[0.3, 0.4])))\n",
    "\n",
    "    # Tercera capa convolucional\n",
    "    model.add(Conv2D(\n",
    "        filters=hp.Choice('conv_3_filters', values=[128, 256], default=128),\n",
    "        kernel_size=(3, 3),\n",
    "        activation='relu'\n",
    "    ))\n",
    "    model.add(BatchNormalization())\n",
    "    model.add(MaxPooling2D(2, 2))\n",
    "    model.add(Dropout(hp.Choice('dropout_3', values=[0.4, 0.5])))\n",
    "\n",
    "    # Cuarta capa convolucional\n",
    "    model.add(Conv2D(\n",
    "        filters=hp.Choice('conv_4_filters', values=[256, 512], default=256),\n",
    "        kernel_size=(3, 3),\n",
    "        activation='relu'\n",
    "    ))\n",
    "    model.add(BatchNormalization())\n",
    "    model.add(MaxPooling2D(2, 2))\n",
    "    model.add(Dropout(hp.Choice('dropout_4', values=[0.4, 0.5])))\n",
    "\n",
    "    # Capa densa final\n",
    "    model.add(Flatten())\n",
    "    model.add(Dense(\n",
    "        units=hp.Choice('dense_units', values=[256, 512], default=512),\n",
    "        activation='relu'\n",
    "    ))\n",
    "    model.add(Dropout(hp.Choice('dropout_dense', values=[0.5, 0.6])))\n",
    "    model.add(Dense(len(train_generator.class_indices), activation='softmax'))  # Ajustar a número de subcategorías\n",
    "    \n",
    "    # Compilación del modelo\n",
    "    model.compile(\n",
    "        optimizer=Adam(hp.Choice('learning_rate', values=[1e-3, 5e-4, 1e-4])),\n",
    "        loss='categorical_crossentropy',\n",
    "        metrics=['accuracy']\n",
    "    )\n",
    "    \n",
    "    return model\n",
    "\n",
    "# Configuración de Keras Tuner para la búsqueda de hiperparámetros\n",
    "tuner = kt.RandomSearch(\n",
    "    build_model,\n",
    "    objective='val_accuracy',\n",
    "    max_trials=10,\n",
    "    executions_per_trial=1,\n",
    "    directory='hyperparameter_search',\n",
    "    project_name='fruit_vegetable_subcategories'\n",
    ")\n",
    "\n",
    "# Configurar callbacks para la búsqueda\n",
    "early_stopping = EarlyStopping(monitor='val_loss', patience=5, restore_best_weights=True)\n",
    "reduce_lr = ReduceLROnPlateau(monitor='val_loss', factor=0.5, patience=3, min_lr=1e-6)\n",
    "\n",
    "# Ejecutar la búsqueda de hiperparámetros\n",
    "tuner.search(\n",
    "    train_generator,\n",
    "    epochs=20,\n",
    "    validation_data=test_generator,\n",
    "    callbacks=[early_stopping, reduce_lr]\n",
    ")\n",
    "\n",
    "# Obtener el mejor modelo de la búsqueda de hiperparámetros\n",
    "best_model = tuner.get_best_models(num_models=1)[0]\n",
    "\n",
    "# Evaluar el mejor modelo en el conjunto de validación\n",
    "val_loss, val_acc = best_model.evaluate(val_generator)\n",
    "print(f\"Mejor precisión en el conjunto de validación: {val_acc:.2f}\")\n",
    "\n",
    "# Obtener predicciones y calcular reporte de clasificación y matriz de confusión\n",
    "val_generator.reset()\n",
    "predictions = np.argmax(best_model.predict(val_generator), axis=1)\n",
    "true_labels = val_generator.classes\n",
    "class_labels = list(val_generator.class_indices.keys())\n",
    "\n",
    "print(\"Reporte de Clasificación:\")\n",
    "print(classification_report(true_labels, predictions, target_names=class_labels))\n",
    "\n",
    "# Generar y visualizar la matriz de confusión\n",
    "conf_matrix = confusion_matrix(true_labels, predictions)\n",
    "plt.figure(figsize=(10, 8))\n",
    "sns.heatmap(conf_matrix, annot=True, fmt='d', cmap='Blues', xticklabels=class_labels, yticklabels=class_labels)\n",
    "plt.xlabel(\"Predicciones\")\n",
    "plt.ylabel(\"Valores Reales\")\n",
    "plt.title(\"Matriz de Confusión en Conjunto de Validación - Subcategorías\")\n",
    "plt.show()\n"
   ]
  }
 ],
 "metadata": {
  "kernelspec": {
   "display_name": "Python 3",
   "language": "python",
   "name": "python3"
  },
  "language_info": {
   "codemirror_mode": {
    "name": "ipython",
    "version": 3
   },
   "file_extension": ".py",
   "mimetype": "text/x-python",
   "name": "python",
   "nbconvert_exporter": "python",
   "pygments_lexer": "ipython3",
   "version": "3.12.4"
  }
 },
 "nbformat": 4,
 "nbformat_minor": 2
}
