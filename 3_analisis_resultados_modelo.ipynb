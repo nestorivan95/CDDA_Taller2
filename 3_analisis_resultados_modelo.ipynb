{
 "cells": [
  {
   "cell_type": "markdown",
   "id": "7c94cb39",
   "metadata": {},
   "source": [
    "# Análisis de Resultados del Modelo"
   ]
  },
  {
   "cell_type": "markdown",
   "id": "995bb870",
   "metadata": {},
   "source": [
    "\n",
    "**Objetivo:** Este análisis de resultados se basa en el reporte de clasificación y en la matriz de confusión para evaluar el desempeño del modelo\n",
    "y entender su capacidad de clasificación de imágenes en las clases \"Fruit\" y \"Vegetables\". También se discutirán áreas de mejora\n",
    "y el valor de estas métricas para la empresa.\n"
   ]
  },
  {
   "cell_type": "markdown",
   "id": "11d5dd53",
   "metadata": {},
   "source": [
    "### Métricas de Evaluación del Reporte de Clasificación"
   ]
  },
  {
   "cell_type": "markdown",
   "id": "f0b4af74",
   "metadata": {},
   "source": [
    "\n",
    "### Análisis de las Métricas de Evaluación\n",
    "\n",
    "1. **Precisión General:** \n",
    "    - La precisión total en el conjunto de validación es del 46%. Aunque se observan algunas mejoras parciales con la búsqueda de hiperparámetros, \n",
    "      la precisión sigue siendo baja, especialmente en la clase \"Vegetables\".\n",
    "\n",
    "2. **Clase \"Fruit\":**\n",
    "    - **Precisión:** 0.53, lo que significa que el modelo es correcto el 53% de las veces cuando predice \"Fruit\". Esto indica un desempeño moderado pero \n",
    "      todavía insuficiente en esta clase.\n",
    "    - **Recall:** 0.52, lo cual sugiere que el modelo solo identifica correctamente el 52% de los casos reales de \"Fruit\", lo que limita su capacidad de \n",
    "      detección.\n",
    "    - **F1-score:** 0.52, lo que muestra que el balance entre precisión y recall en esta clase es bajo, indicando que el modelo puede mejorar.\n",
    "\n",
    "3. **Clase \"Vegetables\":**\n",
    "    - **Precisión:** 0.38, lo que muestra que la mayoría de las predicciones de \"Vegetables\" no son correctas, reflejando que el modelo confunde esta clase con \"Fruit\".\n",
    "    - **Recall:** 0.39, lo cual indica que el modelo solo identifica correctamente el 39% de los casos reales de \"Vegetables\".\n",
    "    - **F1-score:** 0.39, lo que sugiere una baja efectividad en esta clase.\n",
    "\n",
    "### Análisis de la Matriz de Confusión\n",
    "\n",
    "La matriz de confusión sugiere que el modelo confunde considerablemente ambas clases:\n",
    "- 53 casos de \"Fruit\" fueron clasificados como \"Vegetables\".\n",
    "- 52 casos de \"Vegetables\" fueron clasificados como \"Fruit\".\n",
    "\n",
    "Este patrón muestra que el modelo tiene dificultades para distinguir características específicas de cada clase, lo que reduce su efectividad general.\n",
    "\n",
    "### Impacto para la Empresa\n",
    "\n",
    "\n",
    "Dado que en nuestro supermercado inteligente los clientes pueden tomar productos y salir sin pasar por caja, es fundamental que el sistema identifique correctamente cada artículo en tiempo real mediante cámaras y sensores. Un modelo que no distinga con precisión entre categorías como \"Fruit\" y \"Vegetables\" no solo puede causar errores en la facturación, sino también afectar negativamente la gestión de inventario, impactando tanto la experiencia del cliente como la eficiencia operativa del supermercado.\n",
    "\n",
    "Para que el modelo sea viable y mantenga una experiencia de usuario satisfactoria, deberíamos establecer un margen de error máximo del 5%. Este nivel de precisión es crítico, especialmente en aspectos delicados como la facturación en la tarjeta de crédito, donde errores pueden dañar la confianza del cliente en el sistema. Usar un modelo con baja precisión, como el actual, podría resultar en cargos incorrectos y generar frustración, disminuyendo la probabilidad de que los clientes regresen y poniendo en riesgo el éxito del concepto de supermercado inteligente.\n",
    "\n",
    "Ademas sin un analisis efectivo de compra se afectaría tambien la gestión de inventario dentro del supermercado al no saber las existencias de cada producto con exactitud. Sería un caos operacionalmente.\n",
    "\n",
    "Concluimos que es mejor no salir a producción a menos que se logre una mejora sustancial del modelo con las siguientes oportundades de mejora tanto del modelo como gestión del negocio.\n",
    "\n",
    "\n",
    "\n",
    "### Oportunidades de Mejora Modelo\n",
    "\n",
    "- **Recolección de Datos Adicionales:** Obtener más ejemplos de cada clase, especialmente de características que ayuden a distinguir entre \"Fruit\" y \"Vegetables\".\n",
    "- **Técnicas de Aumento de Datos Específicas:** Aplicar aumentos que simulen características propias de cada clase, ayudando al modelo a aprender patrones únicos.\n",
    "- **Revisión de Preprocesamiento de Imágenes:** Evaluar si los pasos de preprocesamiento podrían mejorarse para capturar características diferenciadoras.\n",
    "\n",
    "Implementando estos ajustes, el modelo podría mejorar en precisión y recall, logrando una mejor categorización y contribuyendo de manera más efectiva a los objetivos de la empresa.\n",
    "\n",
    "### Oportunidades de Mejora Supermercado\n",
    "\n",
    "- **Diferenciación Visual de Productos:** Cambiar la presentación de ciertos productos para que sean fácilmente identificables. Por ejemplo, evitar empaques que mezclen frutas y vegetales en una sola presentación y, en su lugar, usar colores, etiquetas o stickers distintivos para cada categoría. Esto ayudaría al modelo a distinguir de forma más precisa entre frutas y vegetales, reduciendo errores de clasificación.\n",
    "\n",
    "- **Seccionamiento Estratégico del Supermercado:** Organizar el supermercado de manera que cada sección (frutas, vegetales, otros productos) esté claramente delimitada y cada cámara esté dedicada a una sola categoría de productos. Esto permitiría que el sistema reconozca los productos dentro de un contexto específico, limitando el rango de clasificación y aumentando la precisión en cada sección. Con esta disposición, el modelo tendría un entorno más controlado y predecible, mejorando la exactitud en la identificación de productos y garantizando una experiencia de usuario sin errores.\n"
   ]
  }
 ],
 "metadata": {
  "kernelspec": {
   "display_name": "Python 3.11.4 64-bit",
   "language": "python",
   "name": "python3"
  },
  "language_info": {
   "codemirror_mode": {
    "name": "ipython",
    "version": 3
   },
   "file_extension": ".py",
   "mimetype": "text/x-python",
   "name": "python",
   "nbconvert_exporter": "python",
   "pygments_lexer": "ipython3",
   "version": "3.11.4"
  },
  "vscode": {
   "interpreter": {
    "hash": "aee8b7b246df8f9039afb4144a1f6fd8d2ca17a180786b69acc140d282b71a49"
   }
  }
 },
 "nbformat": 4,
 "nbformat_minor": 5
}
